{
  "nbformat": 4,
  "nbformat_minor": 0,
  "metadata": {
    "colab": {
      "name": "Actividad_1_Parte_1.ipynb",
      "provenance": [],
      "collapsed_sections": [],
      "toc_visible": true,
      "include_colab_link": true
    },
    "kernelspec": {
      "display_name": "Python 3",
      "language": "python",
      "name": "python3"
    },
    "accelerator": "GPU"
  },
  "cells": [
    {
      "cell_type": "markdown",
      "metadata": {
        "id": "view-in-github",
        "colab_type": "text"
      },
      "source": [
        "<a href=\"https://colab.research.google.com/github/richardcmg7/sistemascognitivos/blob/main/Actividad_1_Parte_1.ipynb\" target=\"_parent\"><img src=\"https://colab.research.google.com/assets/colab-badge.svg\" alt=\"Open In Colab\"/></a>"
      ]
    },
    {
      "cell_type": "markdown",
      "metadata": {
        "id": "cBYbHWtYde2c"
      },
      "source": [
        "# UNIR - SISTEMAS COGNITIVOS\n",
        "\n",
        "\n",
        "> ### RICHARD CAMILO SAAVEDRA CONEO\n",
        "> #### Actividad 1 - Entrenamiento de Redes Neuronales\n"
      ]
    },
    {
      "cell_type": "markdown",
      "metadata": {
        "id": "iiDzBoKGwmMZ"
      },
      "source": [
        "# Primera parte: Introducción a las redes neuronales con Keras\n",
        "\n",
        "En esta primera parte, vamos a utilizar una red neuronal para clasificar imágenes de prendas de ropa. Para ello, utilizaremos Keras con TensorFlow.\n",
        "\n",
        "El dataset a utilizar es Fashion MNIST, un problema sencillo con imágenes pequeñas de ropa, pero más interesante que el dataset de MNIST. Puedes consultar más información sobre el dataset en [este enlace](https://github.com/zalandoresearch/fashion-mnist).\n",
        "\n",
        "El código utilizado para contestar tiene que quedar claramente reflejado en el Notebook. Puedes crear nuevas cells si así lo deseas para estructurar tu código y sus salidas. A la hora de entregar el notebook, **asegúrate de que los resultados de ejecutar tu código han quedado guardados** (por ejemplo, a la hora de entrenar una red neuronal tiene que verse claramente un log de los resultados de cada epoch)."
      ]
    },
    {
      "cell_type": "code",
      "metadata": {
        "id": "gSHr268SwmMa"
      },
      "source": [
        "import keras\n",
        "from keras.datasets import fashion_mnist\n",
        "from keras.models import Sequential\n",
        "from keras.layers import Dense\n",
        "import tensorflow as tf\n",
        "import numpy as np\n",
        "\n",
        "\n",
        "import matplotlib.pyplot as plt"
      ],
      "execution_count": null,
      "outputs": []
    },
    {
      "cell_type": "markdown",
      "metadata": {
        "id": "PhYq8-CvwmMc"
      },
      "source": [
        "Primero, vamos a obtener los datos. Por suerte para nosotros, estos pueden ser descargados directamente desde Keras, por lo que no tendremos que preocuparnos de tratar con ficheros."
      ]
    },
    {
      "cell_type": "code",
      "metadata": {
        "id": "0mjrFULOwmMd",
        "outputId": "6436b661-9375-4231-ef0c-e02b02bf86c7",
        "colab": {
          "base_uri": "https://localhost:8080/",
          "height": 160
        }
      },
      "source": [
        "(x_train, y_train), (x_test, y_test) = fashion_mnist.load_data()"
      ],
      "execution_count": null,
      "outputs": [
        {
          "output_type": "stream",
          "text": [
            "Downloading data from https://storage.googleapis.com/tensorflow/tf-keras-datasets/train-labels-idx1-ubyte.gz\n",
            "32768/29515 [=================================] - 0s 0us/step\n",
            "Downloading data from https://storage.googleapis.com/tensorflow/tf-keras-datasets/train-images-idx3-ubyte.gz\n",
            "26427392/26421880 [==============================] - 1s 0us/step\n",
            "Downloading data from https://storage.googleapis.com/tensorflow/tf-keras-datasets/t10k-labels-idx1-ubyte.gz\n",
            "8192/5148 [===============================================] - 0s 0us/step\n",
            "Downloading data from https://storage.googleapis.com/tensorflow/tf-keras-datasets/t10k-images-idx3-ubyte.gz\n",
            "4423680/4422102 [==============================] - 0s 0us/step\n"
          ],
          "name": "stdout"
        }
      ]
    },
    {
      "cell_type": "markdown",
      "metadata": {
        "id": "AOVoeoj0wmMe"
      },
      "source": [
        "Acto seguido, normalizamos esos datos de manera similar a como hemos visto con MNIST, obteniendo valores entre 0 y 1. Este paso es muy importante para el correcto funcionamiento de nuestra red."
      ]
    },
    {
      "cell_type": "code",
      "metadata": {
        "id": "5EgKN2YWwmMf"
      },
      "source": [
        "x_train = x_train / 255.0\n",
        "x_test = x_test / 255.0"
      ],
      "execution_count": null,
      "outputs": []
    },
    {
      "cell_type": "markdown",
      "metadata": {
        "id": "BaqXlSMBwmMg"
      },
      "source": [
        "## 1. Información sobre el dataset"
      ]
    },
    {
      "cell_type": "markdown",
      "metadata": {
        "id": "e0aer8ZZwmMh"
      },
      "source": [
        "Una vez tenemos los datos cargados en memoria, vamos a obtener información sobre los mismos."
      ]
    },
    {
      "cell_type": "markdown",
      "metadata": {
        "id": "E-im9PnEwmMh"
      },
      "source": [
        "**Pregunta 1.1 *(0.25 puntos)*** ¿Cuántas imágenes hay de *training* y de *test*? ¿Qué tamaño tienen las imágenes?"
      ]
    },
    {
      "cell_type": "code",
      "metadata": {
        "id": "lvP0Y4SCwmMi",
        "outputId": "b0261c34-cac0-4e60-d585-050eecf61203",
        "colab": {
          "base_uri": "https://localhost:8080/",
          "height": 88
        }
      },
      "source": [
        "### Tu código aquí ###\n",
        "print(f\"La cantidad de imágenes de entrenamiento es de {len(x_train)}\")\n",
        "print(f\"La cantidad de imágenes para test es de {len(x_test)}\")\n",
        "print(f\"El tamaño de las imagenes de de {x_test[0].shape[0]} X {x_test[0].shape[1]}\")\n",
        "print(f\"El tipo de datos de la variable de entrenamiento \\\"x_train\\\" es {type(x_test)}\")"
      ],
      "execution_count": null,
      "outputs": [
        {
          "output_type": "stream",
          "text": [
            "La cantidad de imágenes de entrenamiento es de 60000\n",
            "La cantidad de imágenes para test es de 10000\n",
            "El tamaño de las imagenes de de 28 X 28\n",
            "El tipo de datos de la variable de entrenamiento \"x_train\" es <class 'numpy.ndarray'>\n"
          ],
          "name": "stdout"
        }
      ]
    },
    {
      "cell_type": "markdown",
      "metadata": {
        "id": "Xwp5ljFKwmMj"
      },
      "source": [
        "*Tu respuesta aquí*\n",
        "\n",
        "x_train y x_test son del tipo numpy array\n",
        "\n",
        "* La cantidad de imágenes de entrenamiento es de 60000\n",
        "* La cantidad de imágenes para test es de 10000\n",
        "* El tamaño de las imagenes de de 28 X 28"
      ]
    },
    {
      "cell_type": "markdown",
      "metadata": {
        "id": "F2LsvfHOwmMk"
      },
      "source": [
        "**Pregunta 1.2 *(0.25 puntos)*** Realizar una exploración de las variables que contienen los datos. Describir en qué consiste un example del dataset (qué información se guarda en cada imagen) y describir qué contiene la información en y."
      ]
    },
    {
      "cell_type": "code",
      "metadata": {
        "id": "3W5rzaGxwmMk",
        "outputId": "25527c5a-c01e-4d80-e3de-7b6f1ea0e404",
        "colab": {
          "base_uri": "https://localhost:8080/",
          "height": 88
        }
      },
      "source": [
        "### Tu código aquí ###\n",
        "print(f\"El set de datos x_train es {x_train.shape}\")\n",
        "print(f\"El set de datos y_train es {y_train.shape}\")\n",
        "print(f\"el set de datos de y contiene los siguientes valores unicos {set(y_train)}\")\n",
        "print(\" Los cuales corresponden a la categoria de una imagen\")"
      ],
      "execution_count": null,
      "outputs": [
        {
          "output_type": "stream",
          "text": [
            "El set de datos x_train es (60000, 28, 28)\n",
            "El set de datos y_train es (60000,)\n",
            "el set de datos de y contiene los siguientes valores unicos {0, 1, 2, 3, 4, 5, 6, 7, 8, 9}\n",
            " Los cuales corresponden a la categoria de una imagen\n"
          ],
          "name": "stdout"
        }
      ]
    },
    {
      "cell_type": "code",
      "metadata": {
        "id": "iqJKRNcjBXD4",
        "outputId": "86ad644e-04b8-4120-9d73-6294c1ab4ce4",
        "colab": {
          "base_uri": "https://localhost:8080/",
          "height": 283
        }
      },
      "source": [
        "x_train[0]\n",
        "plt.imshow(x_train[1], cmap=\"gray\")"
      ],
      "execution_count": null,
      "outputs": [
        {
          "output_type": "execute_result",
          "data": {
            "text/plain": [
              "<matplotlib.image.AxesImage at 0x7feb3fabb6d8>"
            ]
          },
          "metadata": {
            "tags": []
          },
          "execution_count": 6
        },
        {
          "output_type": "display_data",
          "data": {
            "image/png": "[encoded data removed]",
            "text/plain": [
              "<Figure size 432x288 with 1 Axes>"
            ]
          },
          "metadata": {
            "tags": [],
            "needs_background": "light"
          }
        }
      ]
    },
    {
      "cell_type": "markdown",
      "metadata": {
        "id": "zaEWKFyvwmMm"
      },
      "source": [
        "*Tu respuesta aquí*\n",
        "\n",
        "Describir en qué consiste un example del dataset?\n",
        "<p>\n",
        "Un example de dataset de entrenamiento esta compuesto por un valor entero de información de cada uno de los pixeles normalizado (0 - 1) organizado en un arreglo numpy de 28 x 28.</p>\n",
        "<p>\n",
        "el set de datos de y contiene los siguientes valores unicos {0, 1, 2, 3, 4, 5, 6, 7, 8, 9}\n",
        " Los cuales corresponden a la categoria de una imagen\n",
        "</p>\n",
        "<table>\n",
        "        <th>Label</th><th>Description</th>\n",
        "    <tr>\n",
        "        <td>0</td><td>T-shirt/top</td>\n",
        "    </tr>\n",
        "    <tr><td>1</td><td>\tTrouser </td></tr>\n",
        "    <tr><td>2</td><td>\tPullover </td></tr>\n",
        "    <tr><td>3</td><td>\tDress </td>\n",
        "    </tr>\n",
        "    <tr><td>4</td><td>\tCoat </td></tr>\n",
        "    <tr><td>5</td><td>\tSandal </td></tr>\n",
        "    <tr><td>6</td><td>\tShirt </td>\n",
        "    </tr>\n",
        "    <tr><td>7</td><td>\tSneaker </td></tr>\n",
        "    <tr><td>8</td><td>\tBag</td></tr>\n",
        "    <tr><td>9</td><td>\tAnkle boot </td></tr>\n",
        "</table>"
      ]
    },
    {
      "cell_type": "markdown",
      "metadata": {
        "id": "HPNa3nH0wmMn"
      },
      "source": [
        "Vamos a **visualizar** una imagen de ejemplo. Prueba tu mismo a cambiar la imagen en uso para explorar el dataset visualmente ejecutando el siguiente código:"
      ]
    },
    {
      "cell_type": "code",
      "metadata": {
        "id": "WlQx9uk3wmMn"
      },
      "source": [
        "def visualize_example(x):\n",
        "    plt.figure()\n",
        "    plt.imshow(x)\n",
        "    plt.colorbar()\n",
        "    plt.grid(False)\n",
        "    plt.show()"
      ],
      "execution_count": null,
      "outputs": []
    },
    {
      "cell_type": "code",
      "metadata": {
        "id": "YTHt4fd2wmMp",
        "outputId": "27c8d296-5d06-4f6d-b6dc-d3dfb4ab95b9",
        "colab": {
          "base_uri": "https://localhost:8080/",
          "height": 269
        }
      },
      "source": [
        "visualize_example(x_train[2])"
      ],
      "execution_count": null,
      "outputs": [
        {
          "output_type": "display_data",
          "data": {
            "image/png": "[encoded data removed]",
            "text/plain": [
              "<Figure size 432x288 with 2 Axes>"
            ]
          },
          "metadata": {
            "tags": [],
            "needs_background": "light"
          }
        }
      ]
    },
    {
      "cell_type": "markdown",
      "metadata": {
        "id": "USVefNOIwmMt"
      },
      "source": [
        "## 2. Entrenamiento de una red neuronal simple"
      ]
    },
    {
      "cell_type": "markdown",
      "metadata": {
        "id": "sSWjUeOdwmMt"
      },
      "source": [
        "**Pregunta 2 *(3.5 puntos)***. Utilizando Keras, y preparando los datos de X e y como fuera necesario, define y entrena una red neuronal que sea capaz de clasificar imágenes de Fashion MNIST con las siguientes características:\n",
        "\n",
        "* Dos hidden layers de tamaños 128 y 64, utilizando unidades **sigmoid**\n",
        "* Optimizador **sgd**.\n",
        "* Durante el entrenamiento, la red tiene que mostrar resultados de **loss** y **accuracy** por cada epoch.\n",
        "* La red debe entrenar durante **20 epochs** y batch size de **64**.\n",
        "* La última capa debe de ser una capa **softmax**.\n",
        "\n",
        "Tu red tendría que ser capaz de superar fácilmente 60% de accuracy."
      ]
    },
    {
      "cell_type": "code",
      "metadata": {
        "id": "E5cIkzxgOYTm"
      },
      "source": [
        "x_train_full = x_train "
      ],
      "execution_count": null,
      "outputs": []
    },
    {
      "cell_type": "code",
      "metadata": {
        "id": "RSuplgo3PANJ"
      },
      "source": [
        "X_valid, X_train = x_train_full[:5000], x_train_full[5000:]\n",
        "y_valid, y_train = y_train[:5000], y_train[5000:]"
      ],
      "execution_count": null,
      "outputs": []
    },
    {
      "cell_type": "code",
      "metadata": {
        "id": "cCh7qRMTwmMt"
      },
      "source": [
        "### Tu código aquí ###\n",
        "\n",
        "model= keras.models.Sequential()\n",
        "# El tamaño de entrada  corresponde al tamaño de la imagen 28x28\n",
        "model.add(keras.layers.Flatten(input_shape=[28,28]))\n",
        "model.add(keras.layers.Dense(128, activation=\"sigmoid\"))\n",
        "model.add(keras.layers.Dense(64, activation=\"sigmoid\"))\n",
        "model.add(keras.layers.Dense(10, activation=\"softmax\"))"
      ],
      "execution_count": null,
      "outputs": []
    },
    {
      "cell_type": "code",
      "metadata": {
        "id": "2UCO-aXSMrpl",
        "outputId": "1197bcd5-a532-4ab5-f829-bcd547440fbe",
        "colab": {
          "base_uri": "https://localhost:8080/",
          "height": 303
        }
      },
      "source": [
        "model.summary()"
      ],
      "execution_count": null,
      "outputs": [
        {
          "output_type": "stream",
          "text": [
            "Model: \"sequential\"\n",
            "_________________________________________________________________\n",
            "Layer (type)                 Output Shape              Param #   \n",
            "=================================================================\n",
            "flatten (Flatten)            (None, 784)               0         \n",
            "_________________________________________________________________\n",
            "dense (Dense)                (None, 128)               100480    \n",
            "_________________________________________________________________\n",
            "dense_1 (Dense)              (None, 64)                8256      \n",
            "_________________________________________________________________\n",
            "dense_2 (Dense)              (None, 10)                650       \n",
            "=================================================================\n",
            "Total params: 109,386\n",
            "Trainable params: 109,386\n",
            "Non-trainable params: 0\n",
            "_________________________________________________________________\n"
          ],
          "name": "stdout"
        }
      ]
    },
    {
      "cell_type": "code",
      "metadata": {
        "id": "iZMBsolZM47b"
      },
      "source": [
        "model.compile(loss=\"sparse_categorical_crossentropy\",\n",
        "              optimizer= \"sgd\",\n",
        "              metrics =[\"accuracy\"])"
      ],
      "execution_count": null,
      "outputs": []
    },
    {
      "cell_type": "code",
      "metadata": {
        "id": "He-BHqgjNaW1",
        "outputId": "7379148a-dfc3-494c-864d-9be5bebfb60d",
        "colab": {
          "base_uri": "https://localhost:8080/",
          "height": 732
        }
      },
      "source": [
        "history = model.fit(X_train,y_train,\n",
        "                    batch_size=64,\n",
        "                    epochs=20, \n",
        "                    validation_data=(X_valid, y_valid))"
      ],
      "execution_count": null,
      "outputs": [
        {
          "output_type": "stream",
          "text": [
            "Epoch 1/20\n",
            "860/860 [==============================] - 2s 2ms/step - loss: 2.1840 - accuracy: 0.3947 - val_loss: 2.0154 - val_accuracy: 0.5946\n",
            "Epoch 2/20\n",
            "860/860 [==============================] - 2s 2ms/step - loss: 1.8167 - accuracy: 0.5819 - val_loss: 1.6182 - val_accuracy: 0.6458\n",
            "Epoch 3/20\n",
            "860/860 [==============================] - 2s 2ms/step - loss: 1.4855 - accuracy: 0.6369 - val_loss: 1.3475 - val_accuracy: 0.6568\n",
            "Epoch 4/20\n",
            "860/860 [==============================] - 2s 2ms/step - loss: 1.2621 - accuracy: 0.6591 - val_loss: 1.1639 - val_accuracy: 0.6870\n",
            "Epoch 5/20\n",
            "860/860 [==============================] - 2s 2ms/step - loss: 1.1094 - accuracy: 0.6818 - val_loss: 1.0373 - val_accuracy: 0.6992\n",
            "Epoch 6/20\n",
            "860/860 [==============================] - 2s 2ms/step - loss: 0.9991 - accuracy: 0.6949 - val_loss: 0.9432 - val_accuracy: 0.7154\n",
            "Epoch 7/20\n",
            "860/860 [==============================] - 2s 2ms/step - loss: 0.9152 - accuracy: 0.7106 - val_loss: 0.8693 - val_accuracy: 0.7294\n",
            "Epoch 8/20\n",
            "860/860 [==============================] - 2s 2ms/step - loss: 0.8498 - accuracy: 0.7232 - val_loss: 0.8120 - val_accuracy: 0.7410\n",
            "Epoch 9/20\n",
            "860/860 [==============================] - 2s 2ms/step - loss: 0.7983 - accuracy: 0.7325 - val_loss: 0.7659 - val_accuracy: 0.7454\n",
            "Epoch 10/20\n",
            "860/860 [==============================] - 2s 2ms/step - loss: 0.7575 - accuracy: 0.7407 - val_loss: 0.7284 - val_accuracy: 0.7528\n",
            "Epoch 11/20\n",
            "860/860 [==============================] - 2s 2ms/step - loss: 0.7248 - accuracy: 0.7470 - val_loss: 0.6993 - val_accuracy: 0.7546\n",
            "Epoch 12/20\n",
            "860/860 [==============================] - 2s 2ms/step - loss: 0.6978 - accuracy: 0.7526 - val_loss: 0.6740 - val_accuracy: 0.7616\n",
            "Epoch 13/20\n",
            "860/860 [==============================] - 2s 2ms/step - loss: 0.6755 - accuracy: 0.7573 - val_loss: 0.6539 - val_accuracy: 0.7650\n",
            "Epoch 14/20\n",
            "860/860 [==============================] - 2s 2ms/step - loss: 0.6566 - accuracy: 0.7627 - val_loss: 0.6355 - val_accuracy: 0.7720\n",
            "Epoch 15/20\n",
            "860/860 [==============================] - 2s 2ms/step - loss: 0.6402 - accuracy: 0.7673 - val_loss: 0.6194 - val_accuracy: 0.7802\n",
            "Epoch 16/20\n",
            "860/860 [==============================] - 2s 2ms/step - loss: 0.6259 - accuracy: 0.7726 - val_loss: 0.6053 - val_accuracy: 0.7860\n",
            "Epoch 17/20\n",
            "860/860 [==============================] - 2s 2ms/step - loss: 0.6128 - accuracy: 0.7767 - val_loss: 0.5914 - val_accuracy: 0.7910\n",
            "Epoch 18/20\n",
            "860/860 [==============================] - 2s 2ms/step - loss: 0.6010 - accuracy: 0.7820 - val_loss: 0.5802 - val_accuracy: 0.7936\n",
            "Epoch 19/20\n",
            "860/860 [==============================] - 2s 2ms/step - loss: 0.5903 - accuracy: 0.7863 - val_loss: 0.5689 - val_accuracy: 0.8010\n",
            "Epoch 20/20\n",
            "860/860 [==============================] - 2s 2ms/step - loss: 0.5800 - accuracy: 0.7917 - val_loss: 0.5606 - val_accuracy: 0.8032\n"
          ],
          "name": "stdout"
        }
      ]
    },
    {
      "cell_type": "code",
      "metadata": {
        "id": "194KR4PZQfs1",
        "outputId": "d0b94c64-bb80-4e6f-8c7e-176cf40bf55e",
        "colab": {
          "base_uri": "https://localhost:8080/",
          "height": 563
        }
      },
      "source": [
        "#-----------------------------------------------------------\n",
        "# Recupera la los resultado sobre los datos de entrenamiento y test\n",
        "# para cada epoca de entrenamiento\n",
        "#-----------------------------------------------------------\n",
        "acc      = history.history[ 'accuracy' ]\n",
        "val_acc  = history.history[ 'val_accuracy' ]\n",
        "loss     = history.history[ 'loss' ]\n",
        "val_loss = history.history[ 'val_loss' ]\n",
        "\n",
        "epochs   = range(len(acc)) # Obtiene el número de epocas\n",
        "\n",
        "#------------------------------------------------\n",
        "# Gráfica de precisión de entrenamiento y validación por  epoch\n",
        "#------------------------------------------------\n",
        "plt.plot  ( epochs,     acc, label='Entrenamiento')\n",
        "plt.plot  ( epochs, val_acc, label='Validación')\n",
        "plt.title ('Precisión Entrenamiento y validación')\n",
        "plt.legend()\n",
        "plt.figure()\n",
        "\n",
        "#------------------------------------------------\n",
        "# Grafica de perdida (loss) entrenamiento y validación por epoca\n",
        "#------------------------------------------------\n",
        "plt.plot  ( epochs,     loss, label='Entrenamiento')\n",
        "plt.plot  ( epochs, val_loss, label='Validación')\n",
        "plt.legend()\n",
        "plt.title ('Perdida en entrenamiento y validación')"
      ],
      "execution_count": null,
      "outputs": [
        {
          "output_type": "execute_result",
          "data": {
            "text/plain": [
              "Text(0.5, 1.0, 'Perdida en entrenamiento y validación')"
            ]
          },
          "metadata": {
            "tags": []
          },
          "execution_count": 16
        },
        {
          "output_type": "display_data",
          "data": {
            "image/png": "[encoded data removed]",
            "text/plain": [
              "<Figure size 432x288 with 1 Axes>"
            ]
          },
          "metadata": {
            "tags": [],
            "needs_background": "light"
          }
        },
        {
          "output_type": "display_data",
          "data": {
            "image/png": "[encoded data removed]",
            "text/plain": [
              "<Figure size 432x288 with 1 Axes>"
            ]
          },
          "metadata": {
            "tags": [],
            "needs_background": "light"
          }
        }
      ]
    },
    {
      "cell_type": "code",
      "metadata": {
        "id": "78AIPszaQTxY"
      },
      "source": [
        "# Guardamos el modelo entrenado como Keras HDF5 \n",
        "\n",
        "saved_model_path = \"./model.h5\"\n",
        "model.save('model_fmnist.h5')"
      ],
      "execution_count": null,
      "outputs": []
    },
    {
      "cell_type": "markdown",
      "metadata": {
        "id": "CZux6TmvwmMv"
      },
      "source": [
        "## 3. Evaluación del modelo en datos de test"
      ]
    },
    {
      "cell_type": "markdown",
      "metadata": {
        "id": "0SzHBkzrwmMw"
      },
      "source": [
        "Una vez hemos entrenado nuestro modelo, vamos a evaluarlo en los datos de test de Fashion MNIST.\n",
        "\n",
        "**Pregunta 3.1 *(0.5 puntos)***. Utilizando el modelo recién entrenado, obtener la accuracy resultante en el dataset de test."
      ]
    },
    {
      "cell_type": "code",
      "metadata": {
        "id": "9CSLZkW1wmMw",
        "outputId": "e92c7f25-516c-449b-bbb9-6c523b0ffb6d",
        "colab": {
          "base_uri": "https://localhost:8080/",
          "height": 106
        }
      },
      "source": [
        "### Tu código aquí ###\n",
        "# Evaluando los datos de Test obtenemos\n",
        "print(\"Evaluando el modelo con los datos de Test: \")\n",
        "resultado = model.evaluate(x_test, y_test, batch_size=128)\n",
        "print(\"Perdida datos de Test, Precisión Datos de test:\", resultado)\n",
        "print(\"***********************************************************\")\n",
        "print(f\"La presición de los datos de test es de: {resultado[1]}\")\n",
        "                   "
      ],
      "execution_count": null,
      "outputs": [
        {
          "output_type": "stream",
          "text": [
            "Evaluando el modelo con los datos de Test: \n",
            "79/79 [==============================] - 0s 2ms/step - loss: 0.5930 - accuracy: 0.7832\n",
            "Perdida datos de Test, Precisión Datos de test: [0.5929639935493469, 0.7832000255584717]\n",
            "***********************************************************\n",
            "La presición de los datos de test es de: 0.7832000255584717\n"
          ],
          "name": "stdout"
        }
      ]
    },
    {
      "cell_type": "markdown",
      "metadata": {
        "id": "ud0JCcZpwmMx"
      },
      "source": [
        "**Pregunta 3.2 *(0.5 puntos)***. Utilizando el método **predict** de Keras, realizar predicciones para los datos de test. Por cada predicción resultante, ¿qué significan los números que obtenemos al hacer predict? ¿Cómo podemos obtener el valor de la clase resultante? (recordar que estamos utilizando una capa softmax para clasificar)."
      ]
    },
    {
      "cell_type": "code",
      "metadata": {
        "id": "0wrXVJJ9wmMy",
        "outputId": "dcd71d5a-d0cb-48d2-d13b-9116ad572c25",
        "colab": {
          "base_uri": "https://localhost:8080/",
          "height": 410
        }
      },
      "source": [
        "### Tu código aquí ###\n",
        "from sklearn.metrics import accuracy_score\n",
        "predictions = model.predict(x_test)     \n",
        "print(f\"El resultado de la predicción esta formado por {predictions.shape[0]} registros pertenecientes a {predictions.shape[1]} clases\")\n",
        "print(f\"Valores de predicción primer registro: {predictions}\")\n",
        "print(f\"El arreglo presenta los valores de probabilidad de pertenecer a a cada una de las clases\")\n",
        "print(\" \")\n",
        "print(f\"Podemos obtener la clase resultante tomando el valor máximo del arreglo de probabilidades con la función 'argmax' y guardandola como un numpy array\")\n",
        "y_pred = np.argmax(predictions, axis = 1)\n",
        "print(\" \")\n",
        "print(f\"Obtenemos y_pred {type(y_pred)} de {y_pred.shape[0]} registros\")\n",
        "print(\" \")\n",
        "print(\"Podriamos determinar el accuaracy nuevamente con la función de sklearn 'accuracy_score(y_test, y_pred)'\")\n",
        "score = accuracy_score(y_test, y_pred)\n",
        "print(f\"obteniendo nuevamente la presición de {score}\")\n"
      ],
      "execution_count": null,
      "outputs": [
        {
          "output_type": "stream",
          "text": [
            "El resultado de la predicción esta formado por 10000 registros pertenecientes a 10 clases\n",
            "Valores de predicción primer registro: [[1.5693220e-04 2.1210693e-05 1.4516292e-04 ... 3.2610744e-01\n",
            "  1.5990097e-02 4.7171575e-01]\n",
            " [8.4073981e-03 3.6540921e-04 7.5122118e-01 ... 5.2061222e-07\n",
            "  1.8149435e-03 3.7456972e-05]\n",
            " [1.9021617e-04 9.9424320e-01 2.5584793e-04 ... 6.7936926e-06\n",
            "  7.5229048e-07 7.2716411e-08]\n",
            " ...\n",
            " [9.9984281e-02 1.1392245e-04 5.4873428e-03 ... 1.3386343e-03\n",
            "  6.6517973e-01 4.4051311e-03]\n",
            " [1.4319035e-03 9.1969621e-01 7.7717233e-04 ... 2.5744611e-04\n",
            "  1.6166594e-05 6.1223468e-06]\n",
            " [3.6549551e-04 8.7600038e-04 8.7541027e-04 ... 2.7647996e-01\n",
            "  2.5617193e-02 2.5222339e-02]]\n",
            "El arreglo presenta los valores de probabilidad de pertenecer a a cada una de las clases\n",
            " \n",
            "Podemos obtener la clase resultante tomando el valor máximo del arreglo de probabilidades con la función 'argmax' y guardandola como un numpy array\n",
            " \n",
            "Obtenemos y_pred <class 'numpy.ndarray'> de 10000 registros\n",
            " \n",
            "Podriamos determinar el accuaracy nuevamente con la función de sklearn 'accuracy_score(y_test, y_pred)'\n",
            "obteniendo nuevamente la presición de 0.7832\n"
          ],
          "name": "stdout"
        }
      ]
    },
    {
      "cell_type": "markdown",
      "metadata": {
        "id": "fZynBpMBwmM2"
      },
      "source": [
        "*Tu respuesta aquí*\n",
        "\n",
        "* Para cada prediccion resultante se obtiene las probabilidad de pertenecer a alguna de las 10 clases \n",
        "* Utilizamos la función argmax para tomar la de mayor valor como la clase a la que pertenece ese registro específico.\n",
        "* La presisión obtenida para el presente ejercicio con los datos de test fue de 78%\n",
        "\n"
      ]
    }
  ]
}