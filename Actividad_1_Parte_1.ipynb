{
  "nbformat": 4,
  "nbformat_minor": 0,
  "metadata": {
    "colab": {
      "name": "Actividad_1_Parte_1.ipynb",
      "provenance": [],
      "collapsed_sections": [],
      "include_colab_link": true
    },
    "kernelspec": {
      "display_name": "Python 3",
      "language": "python",
      "name": "python3"
    },
    "accelerator": "GPU"
  },
  "cells": [
    {
      "cell_type": "markdown",
      "metadata": {
        "id": "view-in-github",
        "colab_type": "text"
      },
      "source": [
        "<a href=\"https://colab.research.google.com/github/richardcmg7/sistemascognitivos/blob/main/Actividad_1_Parte_1.ipynb\" target=\"_parent\"><img src=\"https://colab.research.google.com/assets/colab-badge.svg\" alt=\"Open In Colab\"/></a>"
      ]
    },
    {
      "cell_type": "markdown",
      "metadata": {
        "id": "cBYbHWtYde2c"
      },
      "source": [
        "# UNIR - SISTEMAS COGNITIVOS\n",
        "\n",
        "\n",
        "> ### RICHARD CAMILO SAAVEDRA CONEO\n",
        "> #### Actividad 1 Parte 1 - Entrenamiento de Redes Neuronales\n"
      ]
    },
    {
      "cell_type": "markdown",
      "metadata": {
        "id": "iiDzBoKGwmMZ"
      },
      "source": [
        "# Primera parte: Introducción a las redes neuronales con Keras\n",
        "\n",
        "En esta primera parte, vamos a utilizar una red neuronal para clasificar imágenes de prendas de ropa. Para ello, utilizaremos Keras con TensorFlow.\n",
        "\n",
        "El dataset a utilizar es Fashion MNIST, un problema sencillo con imágenes pequeñas de ropa, pero más interesante que el dataset de MNIST. Puedes consultar más información sobre el dataset en [este enlace](https://github.com/zalandoresearch/fashion-mnist).\n",
        "\n",
        "El código utilizado para contestar tiene que quedar claramente reflejado en el Notebook. Puedes crear nuevas cells si así lo deseas para estructurar tu código y sus salidas. A la hora de entregar el notebook, **asegúrate de que los resultados de ejecutar tu código han quedado guardados** (por ejemplo, a la hora de entrenar una red neuronal tiene que verse claramente un log de los resultados de cada epoch)."
      ]
    },
    {
      "cell_type": "code",
      "metadata": {
        "id": "gSHr268SwmMa"
      },
      "source": [
        "import keras\n",
        "from keras.datasets import fashion_mnist\n",
        "from keras.models import Sequential\n",
        "from keras.layers import Dense\n",
        "import tensorflow as tf\n",
        "import numpy as np\n",
        "\n",
        "\n",
        "import matplotlib.pyplot as plt"
      ],
      "execution_count": null,
      "outputs": []
    },
    {
      "cell_type": "markdown",
      "metadata": {
        "id": "PhYq8-CvwmMc"
      },
      "source": [
        "Primero, vamos a obtener los datos. Por suerte para nosotros, estos pueden ser descargados directamente desde Keras, por lo que no tendremos que preocuparnos de tratar con ficheros."
      ]
    },
    {
      "cell_type": "code",
      "metadata": {
        "id": "0mjrFULOwmMd",
        "outputId": "a0629513-9b09-4111-e511-5135dab3f2af",
        "colab": {
          "base_uri": "https://localhost:8080/",
          "height": 160
        }
      },
      "source": [
        "(x_train, y_train), (x_test, y_test) = fashion_mnist.load_data()"
      ],
      "execution_count": null,
      "outputs": [
        {
          "output_type": "stream",
          "text": [
            "Downloading data from https://storage.googleapis.com/tensorflow/tf-keras-datasets/train-labels-idx1-ubyte.gz\n",
            "32768/29515 [=================================] - 0s 0us/step\n",
            "Downloading data from https://storage.googleapis.com/tensorflow/tf-keras-datasets/train-images-idx3-ubyte.gz\n",
            "26427392/26421880 [==============================] - 0s 0us/step\n",
            "Downloading data from https://storage.googleapis.com/tensorflow/tf-keras-datasets/t10k-labels-idx1-ubyte.gz\n",
            "8192/5148 [===============================================] - 0s 0us/step\n",
            "Downloading data from https://storage.googleapis.com/tensorflow/tf-keras-datasets/t10k-images-idx3-ubyte.gz\n",
            "4423680/4422102 [==============================] - 0s 0us/step\n"
          ],
          "name": "stdout"
        }
      ]
    },
    {
      "cell_type": "markdown",
      "metadata": {
        "id": "AOVoeoj0wmMe"
      },
      "source": [
        "Acto seguido, normalizamos esos datos de manera similar a como hemos visto con MNIST, obteniendo valores entre 0 y 1. Este paso es muy importante para el correcto funcionamiento de nuestra red."
      ]
    },
    {
      "cell_type": "code",
      "metadata": {
        "id": "5EgKN2YWwmMf"
      },
      "source": [
        "x_train = x_train / 255.0\n",
        "x_test = x_test / 255.0"
      ],
      "execution_count": null,
      "outputs": []
    },
    {
      "cell_type": "markdown",
      "metadata": {
        "id": "R9qORrmm_HEb"
      },
      "source": [
        "Se divide en 255 que correponde al valor valor máximo de cada uno de los píxeles(255).\n",
        "\n",
        "Normalizamos las imágenes para que nuestro modelo entrene más rápidamente."
      ]
    },
    {
      "cell_type": "markdown",
      "metadata": {
        "id": "BaqXlSMBwmMg"
      },
      "source": [
        "## 1. Información sobre el dataset"
      ]
    },
    {
      "cell_type": "markdown",
      "metadata": {
        "id": "e0aer8ZZwmMh"
      },
      "source": [
        "Una vez tenemos los datos cargados en memoria, vamos a obtener información sobre los mismos."
      ]
    },
    {
      "cell_type": "markdown",
      "metadata": {
        "id": "E-im9PnEwmMh"
      },
      "source": [
        "**Pregunta 1.1 *(0.25 puntos)*** ¿Cuántas imágenes hay de *training* y de *test*? ¿Qué tamaño tienen las imágenes?"
      ]
    },
    {
      "cell_type": "code",
      "metadata": {
        "id": "lvP0Y4SCwmMi",
        "outputId": "6e5d0180-c9a6-40f2-d7fc-df8d0d35ae64",
        "colab": {
          "base_uri": "https://localhost:8080/",
          "height": 88
        }
      },
      "source": [
        "### Tu código aquí ###\n",
        "print(f\"La cantidad de imágenes de entrenamiento es de {len(x_train)}\")\n",
        "print(f\"La cantidad de imágenes para test es de {len(x_test)}\")\n",
        "print(f\"El tamaño de las imagenes de de {x_test[0].shape[0]} X {x_test[0].shape[1]}\")\n",
        "print(f\"El tipo de datos de la variable de entrenamiento \\\"x_train\\\" es {type(x_test)}\")"
      ],
      "execution_count": null,
      "outputs": [
        {
          "output_type": "stream",
          "text": [
            "La cantidad de imágenes de entrenamiento es de 60000\n",
            "La cantidad de imágenes para test es de 10000\n",
            "El tamaño de las imagenes de de 28 X 28\n",
            "El tipo de datos de la variable de entrenamiento \"x_train\" es <class 'numpy.ndarray'>\n"
          ],
          "name": "stdout"
        }
      ]
    },
    {
      "cell_type": "markdown",
      "metadata": {
        "id": "Xwp5ljFKwmMj"
      },
      "source": [
        "*Tu respuesta aquí*\n",
        "\n",
        "x_train y x_test son del tipo numpy array\n",
        "\n",
        "* La cantidad de imágenes de entrenamiento es de 60000\n",
        "* La cantidad de imágenes para test es de 10000\n",
        "* El tamaño de las imagenes de de 28 X 28"
      ]
    },
    {
      "cell_type": "markdown",
      "metadata": {
        "id": "F2LsvfHOwmMk"
      },
      "source": [
        "**Pregunta 1.2 *(0.25 puntos)*** Realizar una exploración de las variables que contienen los datos. Describir en qué consiste un example del dataset (qué información se guarda en cada imagen) y describir qué contiene la información en y."
      ]
    },
    {
      "cell_type": "code",
      "metadata": {
        "id": "3W5rzaGxwmMk",
        "outputId": "0e8b9406-93c4-459d-aac5-74d3287bc742",
        "colab": {
          "base_uri": "https://localhost:8080/",
          "height": 88
        }
      },
      "source": [
        "### Tu código aquí ###\n",
        "print(f\"El set de datos x_train es {x_train.shape}\")\n",
        "print(f\"El set de datos y_train es {y_train.shape}\")\n",
        "print(f\"el set de datos de y contiene los siguientes valores unicos {set(y_train)}\")\n",
        "print(\" Los cuales corresponden a la categoria de una imagen\")"
      ],
      "execution_count": null,
      "outputs": [
        {
          "output_type": "stream",
          "text": [
            "El set de datos x_train es (60000, 28, 28)\n",
            "El set de datos y_train es (60000,)\n",
            "el set de datos de y contiene los siguientes valores unicos {0, 1, 2, 3, 4, 5, 6, 7, 8, 9}\n",
            " Los cuales corresponden a la categoria de una imagen\n"
          ],
          "name": "stdout"
        }
      ]
    },
    {
      "cell_type": "code",
      "metadata": {
        "id": "iqJKRNcjBXD4",
        "outputId": "327ee2e5-7038-4136-dd65-7ede5c7879ed",
        "colab": {
          "base_uri": "https://localhost:8080/",
          "height": 283
        }
      },
      "source": [
        "x_train[0]\n",
        "plt.imshow(x_train[1], cmap=\"gray\")"
      ],
      "execution_count": null,
      "outputs": [
        {
          "output_type": "execute_result",
          "data": {
            "text/plain": [
              "<matplotlib.image.AxesImage at 0x7fbda033f710>"
            ]
          },
          "metadata": {
            "tags": []
          },
          "execution_count": 6
        },
        {
          "output_type": "display_data",
          "data": {
            "image/png": "[encoded data removed]",
            "text/plain": [
              "<Figure size 432x288 with 1 Axes>"
            ]
          },
          "metadata": {
            "tags": [],
            "needs_background": "light"
          }
        }
      ]
    },
    {
      "cell_type": "markdown",
      "metadata": {
        "id": "zaEWKFyvwmMm"
      },
      "source": [
        "*Tu respuesta aquí*\n",
        "\n",
        "Describir en qué consiste un example del dataset?\n",
        "<p>\n",
        "Un example de dataset de entrenamiento esta compuesto por un valor entero de información de cada uno de los pixeles normalizado (0 - 1) organizado en un arreglo numpy de 28 x 28.</p>\n",
        "<p>\n",
        "el set de datos de y contiene los siguientes valores unicos {0, 1, 2, 3, 4, 5, 6, 7, 8, 9}\n",
        " Los cuales corresponden a la categoria de una imagen\n",
        "</p>\n",
        "<table>\n",
        "        <th>Label</th><th>Description</th>\n",
        "    <tr>\n",
        "        <td>0</td><td>T-shirt/top</td>\n",
        "    </tr>\n",
        "    <tr><td>1</td><td>\tTrouser </td></tr>\n",
        "    <tr><td>2</td><td>\tPullover </td></tr>\n",
        "    <tr><td>3</td><td>\tDress </td>\n",
        "    </tr>\n",
        "    <tr><td>4</td><td>\tCoat </td></tr>\n",
        "    <tr><td>5</td><td>\tSandal </td></tr>\n",
        "    <tr><td>6</td><td>\tShirt </td>\n",
        "    </tr>\n",
        "    <tr><td>7</td><td>\tSneaker </td></tr>\n",
        "    <tr><td>8</td><td>\tBag</td></tr>\n",
        "    <tr><td>9</td><td>\tAnkle boot </td></tr>\n",
        "</table>"
      ]
    },
    {
      "cell_type": "markdown",
      "metadata": {
        "id": "HPNa3nH0wmMn"
      },
      "source": [
        "Vamos a **visualizar** una imagen de ejemplo. Prueba tu mismo a cambiar la imagen en uso para explorar el dataset visualmente ejecutando el siguiente código:"
      ]
    },
    {
      "cell_type": "code",
      "metadata": {
        "id": "WlQx9uk3wmMn"
      },
      "source": [
        "def visualize_example(x):\n",
        "    plt.figure()\n",
        "    plt.imshow(x)\n",
        "    plt.colorbar()\n",
        "    plt.grid(False)\n",
        "    plt.show()"
      ],
      "execution_count": null,
      "outputs": []
    },
    {
      "cell_type": "code",
      "metadata": {
        "id": "YTHt4fd2wmMp",
        "outputId": "27c8d296-5d06-4f6d-b6dc-d3dfb4ab95b9",
        "colab": {
          "base_uri": "https://localhost:8080/",
          "height": 269
        }
      },
      "source": [
        "visualize_example(x_train[2])"
      ],
      "execution_count": null,
      "outputs": [
        {
          "output_type": "display_data",
          "data": {
            "image/png": "[encoded data removed]",
            "text/plain": [
              "<Figure size 432x288 with 2 Axes>"
            ]
          },
          "metadata": {
            "tags": [],
            "needs_background": "light"
          }
        }
      ]
    },
    {
      "cell_type": "markdown",
      "metadata": {
        "id": "USVefNOIwmMt"
      },
      "source": [
        "## 2. Entrenamiento de una red neuronal simple"
      ]
    },
    {
      "cell_type": "markdown",
      "metadata": {
        "id": "sSWjUeOdwmMt"
      },
      "source": [
        "**Pregunta 2 *(3.5 puntos)***. Utilizando Keras, y preparando los datos de X e y como fuera necesario, define y entrena una red neuronal que sea capaz de clasificar imágenes de Fashion MNIST con las siguientes características:\n",
        "\n",
        "* Dos hidden layers de tamaños 128 y 64, utilizando unidades **sigmoid**\n",
        "* Optimizador **sgd**.\n",
        "* Durante el entrenamiento, la red tiene que mostrar resultados de **loss** y **accuracy** por cada epoch.\n",
        "* La red debe entrenar durante **20 epochs** y batch size de **64**.\n",
        "* La última capa debe de ser una capa **softmax**.\n",
        "\n",
        "Tu red tendría que ser capaz de superar fácilmente 60% de accuracy."
      ]
    },
    {
      "cell_type": "code",
      "metadata": {
        "id": "E5cIkzxgOYTm"
      },
      "source": [
        "x_train_full = x_train "
      ],
      "execution_count": null,
      "outputs": []
    },
    {
      "cell_type": "code",
      "metadata": {
        "id": "RSuplgo3PANJ"
      },
      "source": [
        "X_valid, X_train = x_train_full[:5000], x_train_full[5000:]\n",
        "y_valid, y_train = y_train[:5000], y_train[5000:]"
      ],
      "execution_count": null,
      "outputs": []
    },
    {
      "cell_type": "code",
      "metadata": {
        "id": "cCh7qRMTwmMt"
      },
      "source": [
        "### Tu código aquí ###\n",
        "\n",
        "model= keras.models.Sequential()\n",
        "# El tamaño de entrada  corresponde al tamaño de la imagen 28x28\n",
        "model.add(keras.layers.Flatten(input_shape=[28,28]))\n",
        "model.add(keras.layers.Dense(128, activation=\"sigmoid\"))\n",
        "model.add(keras.layers.Dense(64, activation=\"sigmoid\"))\n",
        "# Capa de Salida unidades: número de clases (10 para Fashion    minst)\n",
        "model.add(keras.layers.Dense(10, activation=\"softmax\"))"
      ],
      "execution_count": null,
      "outputs": []
    },
    {
      "cell_type": "code",
      "metadata": {
        "id": "iZMBsolZM47b"
      },
      "source": [
        "model.compile(loss=\"sparse_categorical_crossentropy\",\n",
        "              optimizer= \"sgd\",\n",
        "              metrics =[\"sparse_categorical_accuracy\"])"
      ],
      "execution_count": null,
      "outputs": []
    },
    {
      "cell_type": "code",
      "metadata": {
        "id": "2UCO-aXSMrpl",
        "outputId": "4a250d22-c67b-4304-fa5c-642442bd535b",
        "colab": {
          "base_uri": "https://localhost:8080/",
          "height": 303
        }
      },
      "source": [
        "model.summary()"
      ],
      "execution_count": null,
      "outputs": [
        {
          "output_type": "stream",
          "text": [
            "Model: \"sequential\"\n",
            "_________________________________________________________________\n",
            "Layer (type)                 Output Shape              Param #   \n",
            "=================================================================\n",
            "flatten (Flatten)            (None, 784)               0         \n",
            "_________________________________________________________________\n",
            "dense (Dense)                (None, 128)               100480    \n",
            "_________________________________________________________________\n",
            "dense_1 (Dense)              (None, 64)                8256      \n",
            "_________________________________________________________________\n",
            "dense_2 (Dense)              (None, 10)                650       \n",
            "=================================================================\n",
            "Total params: 109,386\n",
            "Trainable params: 109,386\n",
            "Non-trainable params: 0\n",
            "_________________________________________________________________\n"
          ],
          "name": "stdout"
        }
      ]
    },
    {
      "cell_type": "code",
      "metadata": {
        "id": "He-BHqgjNaW1",
        "outputId": "e1203f6a-46be-4adb-e5df-1ecd133ddd20",
        "colab": {
          "base_uri": "https://localhost:8080/",
          "height": 732
        }
      },
      "source": [
        "history = model.fit(X_train,y_train,\n",
        "                    batch_size=64,\n",
        "                    epochs=20, \n",
        "                    validation_data=(X_valid, y_valid))"
      ],
      "execution_count": null,
      "outputs": [
        {
          "output_type": "stream",
          "text": [
            "Epoch 1/20\n",
            "860/860 [==============================] - 2s 2ms/step - loss: 2.1845 - sparse_categorical_accuracy: 0.3565 - val_loss: 2.0181 - val_sparse_categorical_accuracy: 0.4092\n",
            "Epoch 2/20\n",
            "860/860 [==============================] - 2s 2ms/step - loss: 1.8192 - sparse_categorical_accuracy: 0.5444 - val_loss: 1.6150 - val_sparse_categorical_accuracy: 0.6126\n",
            "Epoch 3/20\n",
            "860/860 [==============================] - 2s 2ms/step - loss: 1.4756 - sparse_categorical_accuracy: 0.6305 - val_loss: 1.3382 - val_sparse_categorical_accuracy: 0.6504\n",
            "Epoch 4/20\n",
            "860/860 [==============================] - 2s 2ms/step - loss: 1.2502 - sparse_categorical_accuracy: 0.6554 - val_loss: 1.1559 - val_sparse_categorical_accuracy: 0.6806\n",
            "Epoch 5/20\n",
            "860/860 [==============================] - 2s 2ms/step - loss: 1.1000 - sparse_categorical_accuracy: 0.6721 - val_loss: 1.0328 - val_sparse_categorical_accuracy: 0.6990\n",
            "Epoch 6/20\n",
            "860/860 [==============================] - 2s 2ms/step - loss: 0.9941 - sparse_categorical_accuracy: 0.6903 - val_loss: 0.9432 - val_sparse_categorical_accuracy: 0.7036\n",
            "Epoch 7/20\n",
            "860/860 [==============================] - 2s 2ms/step - loss: 0.9150 - sparse_categorical_accuracy: 0.7058 - val_loss: 0.8752 - val_sparse_categorical_accuracy: 0.7184\n",
            "Epoch 8/20\n",
            "860/860 [==============================] - 2s 2ms/step - loss: 0.8536 - sparse_categorical_accuracy: 0.7184 - val_loss: 0.8203 - val_sparse_categorical_accuracy: 0.7334\n",
            "Epoch 9/20\n",
            "860/860 [==============================] - 2s 2ms/step - loss: 0.8044 - sparse_categorical_accuracy: 0.7295 - val_loss: 0.7760 - val_sparse_categorical_accuracy: 0.7364\n",
            "Epoch 10/20\n",
            "860/860 [==============================] - 2s 2ms/step - loss: 0.7647 - sparse_categorical_accuracy: 0.7374 - val_loss: 0.7405 - val_sparse_categorical_accuracy: 0.7456\n",
            "Epoch 11/20\n",
            "860/860 [==============================] - 2s 2ms/step - loss: 0.7321 - sparse_categorical_accuracy: 0.7440 - val_loss: 0.7092 - val_sparse_categorical_accuracy: 0.7542\n",
            "Epoch 12/20\n",
            "860/860 [==============================] - 2s 2ms/step - loss: 0.7052 - sparse_categorical_accuracy: 0.7509 - val_loss: 0.6848 - val_sparse_categorical_accuracy: 0.7570\n",
            "Epoch 13/20\n",
            "860/860 [==============================] - 2s 2ms/step - loss: 0.6827 - sparse_categorical_accuracy: 0.7547 - val_loss: 0.6645 - val_sparse_categorical_accuracy: 0.7658\n",
            "Epoch 14/20\n",
            "860/860 [==============================] - 2s 2ms/step - loss: 0.6637 - sparse_categorical_accuracy: 0.7595 - val_loss: 0.6451 - val_sparse_categorical_accuracy: 0.7686\n",
            "Epoch 15/20\n",
            "860/860 [==============================] - 2s 2ms/step - loss: 0.6473 - sparse_categorical_accuracy: 0.7636 - val_loss: 0.6290 - val_sparse_categorical_accuracy: 0.7748\n",
            "Epoch 16/20\n",
            "860/860 [==============================] - 2s 2ms/step - loss: 0.6331 - sparse_categorical_accuracy: 0.7680 - val_loss: 0.6149 - val_sparse_categorical_accuracy: 0.7818\n",
            "Epoch 17/20\n",
            "860/860 [==============================] - 2s 2ms/step - loss: 0.6202 - sparse_categorical_accuracy: 0.7720 - val_loss: 0.6030 - val_sparse_categorical_accuracy: 0.7840\n",
            "Epoch 18/20\n",
            "860/860 [==============================] - 2s 2ms/step - loss: 0.6087 - sparse_categorical_accuracy: 0.7765 - val_loss: 0.5913 - val_sparse_categorical_accuracy: 0.7872\n",
            "Epoch 19/20\n",
            "860/860 [==============================] - 2s 2ms/step - loss: 0.5979 - sparse_categorical_accuracy: 0.7812 - val_loss: 0.5808 - val_sparse_categorical_accuracy: 0.7914\n",
            "Epoch 20/20\n",
            "860/860 [==============================] - 2s 2ms/step - loss: 0.5881 - sparse_categorical_accuracy: 0.7855 - val_loss: 0.5712 - val_sparse_categorical_accuracy: 0.7992\n"
          ],
          "name": "stdout"
        }
      ]
    },
    {
      "cell_type": "code",
      "metadata": {
        "id": "194KR4PZQfs1",
        "outputId": "35b46885-f894-447c-82fe-f4091529c25c",
        "colab": {
          "base_uri": "https://localhost:8080/",
          "height": 563
        }
      },
      "source": [
        "#-----------------------------------------------------------\n",
        "# Recupera la los resultado sobre los datos de entrenamiento y test\n",
        "# para cada epoca de entrenamiento\n",
        "#-----------------------------------------------------------\n",
        "acc      = history.history[ 'sparse_categorical_accuracy' ]\n",
        "val_acc  = history.history[ 'val_sparse_categorical_accuracy' ]\n",
        "loss     = history.history[ 'loss' ]\n",
        "val_loss = history.history[ 'val_loss' ]\n",
        "\n",
        "epochs   = range(len(acc)) # Obtiene el número de epocas\n",
        "\n",
        "#------------------------------------------------\n",
        "# Gráfica de precisión de entrenamiento y validación por  epoch\n",
        "#------------------------------------------------\n",
        "plt.plot  ( epochs,     acc, label='Entrenamiento')\n",
        "plt.plot  ( epochs, val_acc, label='Validación')\n",
        "plt.title ('Precisión Entrenamiento y validación')\n",
        "plt.legend()\n",
        "plt.figure()\n",
        "\n",
        "#------------------------------------------------\n",
        "# Grafica de perdida (loss) entrenamiento y validación por epoca\n",
        "#------------------------------------------------\n",
        "plt.plot  ( epochs,     loss, label='Entrenamiento')\n",
        "plt.plot  ( epochs, val_loss, label='Validación')\n",
        "plt.legend()\n",
        "plt.title ('Perdida en entrenamiento y validación')"
      ],
      "execution_count": null,
      "outputs": [
        {
          "output_type": "execute_result",
          "data": {
            "text/plain": [
              "Text(0.5, 1.0, 'Perdida en entrenamiento y validación')"
            ]
          },
          "metadata": {
            "tags": []
          },
          "execution_count": 15
        },
        {
          "output_type": "display_data",
          "data": {
            "image/png": "[encoded data removed]",
            "text/plain": [
              "<Figure size 432x288 with 1 Axes>"
            ]
          },
          "metadata": {
            "tags": [],
            "needs_background": "light"
          }
        },
        {
          "output_type": "display_data",
          "data": {
            "image/png": "[encoded data removed]",
            "text/plain": [
              "<Figure size 432x288 with 1 Axes>"
            ]
          },
          "metadata": {
            "tags": [],
            "needs_background": "light"
          }
        }
      ]
    },
    {
      "cell_type": "code",
      "metadata": {
        "id": "78AIPszaQTxY"
      },
      "source": [
        "# Guardamos el modelo entrenado como Keras HDF5 \n",
        "\n",
        "saved_model_path = \"./model.h5\"\n",
        "model.save('model_fmnist.h5')"
      ],
      "execution_count": null,
      "outputs": []
    },
    {
      "cell_type": "markdown",
      "metadata": {
        "id": "CZux6TmvwmMv"
      },
      "source": [
        "## 3. Evaluación del modelo en datos de test"
      ]
    },
    {
      "cell_type": "markdown",
      "metadata": {
        "id": "0SzHBkzrwmMw"
      },
      "source": [
        "Una vez hemos entrenado nuestro modelo, vamos a evaluarlo en los datos de test de Fashion MNIST.\n",
        "\n",
        "**Pregunta 3.1 *(0.5 puntos)***. Utilizando el modelo recién entrenado, obtener la accuracy resultante en el dataset de test."
      ]
    },
    {
      "cell_type": "code",
      "metadata": {
        "id": "9CSLZkW1wmMw",
        "outputId": "73c5f842-8b67-4ddd-a621-17ce81cc23e2",
        "colab": {
          "base_uri": "https://localhost:8080/",
          "height": 106
        }
      },
      "source": [
        "### Tu código aquí ###\n",
        "# Evaluando los datos de Test obtenemos\n",
        "print(\"Evaluando el modelo con los datos de Test: \")\n",
        "test_loss, test_accuracy = model.evaluate(x_test, y_test, batch_size=128)\n",
        "print(\"Perdida datos de Test, Precisión Datos de test:\", test_loss)\n",
        "print(\"***********************************************************\")\n",
        "print(f\"La presición de los datos de test es de: {test_accuracy}\")\n",
        "                   "
      ],
      "execution_count": null,
      "outputs": [
        {
          "output_type": "stream",
          "text": [
            "Evaluando el modelo con los datos de Test: \n",
            "79/79 [==============================] - 0s 2ms/step - loss: 0.6013 - sparse_categorical_accuracy: 0.7814\n",
            "Perdida datos de Test, Precisión Datos de test: [0.601318895816803, 0.7814000248908997]\n",
            "***********************************************************\n",
            "La presición de los datos de test es de: 0.7814000248908997\n"
          ],
          "name": "stdout"
        }
      ]
    },
    {
      "cell_type": "markdown",
      "metadata": {
        "id": "ud0JCcZpwmMx"
      },
      "source": [
        "**Pregunta 3.2 *(0.5 puntos)***. Utilizando el método **predict** de Keras, realizar predicciones para los datos de test. Por cada predicción resultante, ¿qué significan los números que obtenemos al hacer predict? ¿Cómo podemos obtener el valor de la clase resultante? (recordar que estamos utilizando una capa softmax para clasificar)."
      ]
    },
    {
      "cell_type": "code",
      "metadata": {
        "id": "0wrXVJJ9wmMy",
        "outputId": "a1d05d1b-d45b-4eae-fb78-8e637b2c86e6",
        "colab": {
          "base_uri": "https://localhost:8080/",
          "height": 410
        }
      },
      "source": [
        "### Tu código aquí ###\n",
        "from sklearn.metrics import accuracy_score\n",
        "predictions = model.predict(x_test)     \n",
        "print(f\"El resultado de la predicción esta formado por {predictions.shape[0]} registros pertenecientes a {predictions.shape[1]} clases\")\n",
        "print(f\"Valores de predicción primer registro: {predictions}\")\n",
        "print(f\"El arreglo presenta los valores de probabilidad de pertenecer a a cada una de las clases\")\n",
        "print(\" \")\n",
        "print(f\"Podemos obtener la clase resultante tomando el valor máximo del arreglo de probabilidades con la función 'argmax' y guardandola como un numpy array\")\n",
        "y_pred = np.argmax(predictions, axis = 1)\n",
        "print(\" \")\n",
        "print(f\"Obtenemos y_pred {type(y_pred)} de {y_pred.shape[0]} registros\")\n",
        "print(\" \")\n",
        "print(\"Podriamos determinar el accuaracy nuevamente con la función de sklearn 'accuracy_score(y_test, y_pred)'\")\n",
        "score = accuracy_score(y_test, y_pred)\n",
        "print(f\"obteniendo nuevamente precisión de {score}\")\n"
      ],
      "execution_count": null,
      "outputs": [
        {
          "output_type": "stream",
          "text": [
            "El resultado de la predicción esta formado por 10000 registros pertenecientes a 10 clases\n",
            "Valores de predicción primer registro: [[7.5679287e-05 9.9148558e-05 1.2394988e-04 ... 2.6131013e-01\n",
            "  9.8522985e-03 5.0903249e-01]\n",
            " [7.0319455e-03 3.4430012e-04 6.9494021e-01 ... 7.9004803e-07\n",
            "  4.5230365e-03 1.5827462e-05]\n",
            " [3.5434897e-04 9.9142832e-01 2.6733254e-04 ... 6.3703533e-06\n",
            "  2.9588543e-07 7.7098883e-07]\n",
            " ...\n",
            " [7.2779365e-02 9.2854541e-05 3.0681475e-03 ... 1.4073404e-03\n",
            "  7.3878181e-01 2.4447388e-03]\n",
            " [1.1141228e-03 9.3091345e-01 4.2078344e-04 ... 1.2293506e-04\n",
            "  3.6227507e-06 1.8622064e-05]\n",
            " [2.4292184e-04 1.0196159e-03 6.7515625e-04 ... 2.6465240e-01\n",
            "  1.8026030e-02 2.8751804e-02]]\n",
            "El arreglo presenta los valores de probabilidad de pertenecer a a cada una de las clases\n",
            " \n",
            "Podemos obtener la clase resultante tomando el valor máximo del arreglo de probabilidades con la función 'argmax' y guardandola como un numpy array\n",
            " \n",
            "Obtenemos y_pred <class 'numpy.ndarray'> de 10000 registros\n",
            " \n",
            "Podriamos determinar el accuaracy nuevamente con la función de sklearn 'accuracy_score(y_test, y_pred)'\n",
            "obteniendo nuevamente la presición de 0.7814\n"
          ],
          "name": "stdout"
        }
      ]
    },
    {
      "cell_type": "markdown",
      "metadata": {
        "id": "fZynBpMBwmM2"
      },
      "source": [
        "*Tu respuesta aquí*\n",
        "\n",
        "* Para cada prediccion resultante se obtiene las probabilidad de pertenecer a alguna de las 10 clases \n",
        "* Utilizamos la función argmax para tomar la de mayor valor como la clase a la que pertenece ese registro específico.\n",
        "* La presisión obtenida para el presente ejercicio con los datos de test fue de 78%\n",
        "\n"
      ]
    },
    {
      "cell_type": "markdown",
      "metadata": {
        "id": "olR2-9VLa8A0"
      },
      "source": [
        "___"
      ]
    },
    {
      "cell_type": "markdown",
      "metadata": {
        "id": "ZGwBznuVYxlr"
      },
      "source": [
        "<p align=\"center\">Fin Primera Parte de la Actividad 1. Entrenamiento de Redes Neuronales\n",
        "<br><b>Richard Camilo Saavedra Coneo</b><br><time datetime=\"2020-10-26\">26 de Octubre de 2020</time>\n",
        "</p>"
      ]
    }
  ]
}