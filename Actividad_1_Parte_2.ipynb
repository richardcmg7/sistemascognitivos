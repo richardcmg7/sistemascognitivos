{
  "nbformat": 4,
  "nbformat_minor": 0,
  "metadata": {
    "kernelspec": {
      "display_name": "Python 3",
      "language": "python",
      "name": "python3"
    },
    "language_info": {
      "codemirror_mode": {
        "name": "ipython",
        "version": 3
      },
      "file_extension": ".py",
      "mimetype": "text/x-python",
      "name": "python",
      "nbconvert_exporter": "python",
      "pygments_lexer": "ipython3",
      "version": "3.5.2"
    },
    "colab": {
      "name": "Actividad_1_Parte_2.ipynb",
      "provenance": [],
      "toc_visible": true,
      "include_colab_link": true
    }
  },
  "cells": [
    {
      "cell_type": "markdown",
      "metadata": {
        "id": "view-in-github",
        "colab_type": "text"
      },
      "source": [
        "<a href=\"https://colab.research.google.com/github/richardcmg7/sistemascognitivos/blob/main/Actividad_1_Parte_2.ipynb\" target=\"_parent\"><img src=\"https://colab.research.google.com/assets/colab-badge.svg\" alt=\"Open In Colab\"/></a>"
      ]
    },
    {
      "cell_type": "markdown",
      "metadata": {
        "id": "4ip9ysnsTFqJ"
      },
      "source": [
        "# Segunda parte: Aspectos prácticos de las redes neuronales\n",
        "\n",
        "En esta segunda parte, vamos a continuar desarrollando el problema de Fashion MNIST, con el objetivo de entender los aspectos prácticos del entrenamiento de redes neuronales que hemos visto en el Tema 4.\n",
        "\n",
        "El código utilizado para contestar tiene que quedar claramente reflejado en el Notebook. Puedes crear nuevas cells si así lo deseas para estructurar tu código y sus salidas. A la hora de entregar el notebook, **asegúrate de que los resultados de ejecutar tu código han quedado guardados**. "
      ]
    },
    {
      "cell_type": "code",
      "metadata": {
        "id": "yQ1DOKSRTFqK"
      },
      "source": [
        "# Puedes añadir todos los imports adicionales que necesites aquí\n",
        "import keras\n",
        "from keras.datasets import fashion_mnist\n",
        "from keras.models import Sequential\n",
        "from keras.layers import Dense, Dropout\n",
        "import tensorflow as tf\n",
        "\n",
        "import matplotlib\n",
        "import matplotlib.pyplot as plt"
      ],
      "execution_count": 1,
      "outputs": []
    },
    {
      "cell_type": "markdown",
      "metadata": {
        "id": "lBY7qt3mTFqM"
      },
      "source": [
        "#### Obtención de los datos y pre-processing"
      ]
    },
    {
      "cell_type": "code",
      "metadata": {
        "id": "PImY4g9yTFqM",
        "outputId": "554d0296-5670-4d01-b482-2d133a475113",
        "colab": {
          "base_uri": "https://localhost:8080/",
          "height": 153
        }
      },
      "source": [
        "(x_train, y_train), (x_test, y_test) = fashion_mnist.load_data()\n",
        "x_train = x_train / 255.0\n",
        "x_test = x_test / 255.0"
      ],
      "execution_count": 2,
      "outputs": [
        {
          "output_type": "stream",
          "text": [
            "Downloading data from https://storage.googleapis.com/tensorflow/tf-keras-datasets/train-labels-idx1-ubyte.gz\n",
            "32768/29515 [=================================] - 0s 0us/step\n",
            "Downloading data from https://storage.googleapis.com/tensorflow/tf-keras-datasets/train-images-idx3-ubyte.gz\n",
            "26427392/26421880 [==============================] - 0s 0us/step\n",
            "Downloading data from https://storage.googleapis.com/tensorflow/tf-keras-datasets/t10k-labels-idx1-ubyte.gz\n",
            "8192/5148 [===============================================] - 0s 0us/step\n",
            "Downloading data from https://storage.googleapis.com/tensorflow/tf-keras-datasets/t10k-images-idx3-ubyte.gz\n",
            "4423680/4422102 [==============================] - 0s 0us/step\n"
          ],
          "name": "stdout"
        }
      ]
    },
    {
      "cell_type": "markdown",
      "metadata": {
        "id": "zJyX2Bk8TFqO"
      },
      "source": [
        "## Consideraciones iniciales"
      ]
    },
    {
      "cell_type": "markdown",
      "metadata": {
        "id": "jRmct5ogTFqO"
      },
      "source": [
        "### Train-validation-test split\n",
        "\n",
        "En todos los modelos que entrenemos, vamos a partir los datos de training (x_train) en dos sets: training y validación. De este modo, al final tendremos tres datasets distintos: training, validation, y test. Esta es una estrategia común en el aprendizaje automático, en la que los datos de test (o held-out data) se \n",
        "\"esconden\" hasta el final. Los datos de validación se utilizan para estimar cómo de bien están funcionando nuestros modelos y para observar si estamos cayendo en overfitting. Esto nos permite cambiar hiperparámetros y probar distintas arquitecturas **sabiendo que no estamos utilizando información del test set para \"optimizar\" los resultados en éste** (si eligiéramos nuestro mejor modelo en base a los resultados de test, estaríamos \"haciendo trampas\", ya que se ha utilizado la información contenida en éste para elegir el modelo y las métricas reportadas serían optimistas).\n",
        "\n",
        "Para utilizar un split training-validation data durante el entrenamiento, podemos partir nosotros mismos los datos o dejar que Keras lo haga. Podéis ver cómo hacer estas particiones en la documentación de *fit*.\n",
        "\n",
        "**Requisito: En todos los entrenamientos de esta práctica, se requiere utilizar el 20% de los datos en x_train como  conjunto de datos de validación**"
      ]
    },
    {
      "cell_type": "markdown",
      "metadata": {
        "id": "BttR0CzHTFqP"
      },
      "source": [
        "### Un error común con modelos de Keras\n",
        "\n",
        "En esta práctica entrenaremos varios modelos para comparar resultados. Un error común en Keras es no instanciar un nuevo modelo cada vez que hacemos un nuevo entrenamiento. Al hacer\n",
        "\n",
        "*model = Sequential()*\n",
        "\n",
        "*model.add(lo que sea)  # Definición del modelo*\n",
        "\n",
        "*model.fit()*\n",
        "\n",
        "si queremos entrenar un nuevo modelo o el mismo modelo otra vez, es necesario volver a inicializar el modelo con model = Sequential(). Si olvidamos este paso y volvemos a hacer fit(), el modelo seguirá entrenando por donde se quedó en el último fit()."
      ]
    },
    {
      "cell_type": "markdown",
      "metadata": {
        "id": "X7REMbqlTFqP"
      },
      "source": [
        "### Análisis de resultados \n",
        "\n",
        "A la hora de escribir las respuestas y los análisis pedidos, es importante presentar las conclusiones de manera adecuada a partir de lo visto en nuestros experimentos. Los Jupyter Notebook son una herramienta imprescindible para *data scientists* e ingenieros de Machine Learning para presentar los resultados, incluyendo soporte para incluir gráficas y elementos visuales. Podéis explicar vuestras observaciones del modo que consideréis adecuado, si bien recomendamos la utilización de gráficas para evaluar los entrenamientos y comparar resultados.\n",
        "\n",
        "Como ayuda, las siguientes funciones pueden resultar interesantes a la hora de evaluar resultados. Todas ellas utilizan el objeto *history* que podéis obtener como salida del método *fit()* de Keras:\n",
        "\n",
        "history = model.fit(x_train, y_train, ...)\n",
        "\n",
        "Por supuesto, podéis modificarlas y utilizarlas como prefiráis para crear vuestros propios informes."
      ]
    },
    {
      "cell_type": "code",
      "metadata": {
        "id": "L5epQBRpTFqP"
      },
      "source": [
        "def plot_acc(history, title=\"Model Accuracy\"):\n",
        "    \"\"\"Imprime una gráfica mostrando la accuracy por epoch obtenida en un entrenamiento\"\"\"\n",
        "    plt.plot(history.history['acc'])\n",
        "    plt.plot(history.history['val_acc'])\n",
        "    plt.title(title)\n",
        "    plt.ylabel('Accuracy')\n",
        "    plt.xlabel('Epoch')\n",
        "    plt.legend(['Train', 'Val'], loc='upper left')\n",
        "    plt.show()\n",
        "    \n",
        "def plot_loss(history, title=\"Model Loss\"):\n",
        "    \"\"\"Imprime una gráfica mostrando la pérdida por epoch obtenida en un entrenamiento\"\"\"\n",
        "    plt.plot(history.history['loss'])\n",
        "    plt.plot(history.history['val_loss'])\n",
        "    plt.title(title)\n",
        "    plt.ylabel('Loss')\n",
        "    plt.xlabel('Epoch')\n",
        "    plt.legend(['Train', 'Val'], loc='upper right')\n",
        "    plt.show()\n",
        "    \n",
        "def plot_compare_losses(history1, history2, name1=\"Red 1\",\n",
        "                        name2=\"Red 2\", title=\"Graph title\"):\n",
        "    \"\"\"Compara losses de dos entrenamientos con nombres name1 y name2\"\"\"\n",
        "    plt.plot(history1.history['loss'], color=\"green\")\n",
        "    plt.plot(history1.history['val_loss'], 'r--', color=\"green\")\n",
        "    plt.plot(history2.history['loss'], color=\"blue\")\n",
        "    plt.plot(history2.history['val_loss'], 'r--', color=\"blue\")\n",
        "    plt.title(title)\n",
        "    plt.ylabel('Loss')\n",
        "    plt.xlabel('Epoch')\n",
        "    plt.legend(['Train ' + name1, 'Val ' + name1, \n",
        "                'Train ' + name2, 'Val ' + name2],\n",
        "               loc='upper right')\n",
        "    plt.show()\n",
        "    \n",
        "def plot_compare_accs(history1, history2, name1=\"Red 1\",\n",
        "                      name2=\"Red 2\", title=\"Graph title\"):\n",
        "    \"\"\"Compara accuracies de dos entrenamientos con nombres name1 y name2\"\"\"\n",
        "    plt.plot(history1.history['accuracy'], color=\"green\")\n",
        "    plt.plot(history1.history['val_accuracy'], 'r--', color=\"green\")\n",
        "    plt.plot(history2.history['accuracy'], color=\"blue\")\n",
        "    plt.plot(history2.history['val_accuracy'], 'r--', color=\"blue\")\n",
        "    plt.title(title)\n",
        "    plt.ylabel('Accuracy')\n",
        "    plt.xlabel('Epoch')\n",
        "    plt.legend(['Train ' + name1, 'Val ' + name1, \n",
        "                'Train ' + name2, 'Val ' + name2], \n",
        "               loc='lower right')\n",
        "    plt.show()\n",
        "    \n",
        "# Nota: podéis cambiar los números aquí presentes y ejecutar esta línea si queréis cambiar el tamaño\n",
        "# de las gráficas\n",
        "# matplotlib.rcParams['figure.figsize'] = [8, 8]\n"
      ],
      "execution_count": null,
      "outputs": []
    },
    {
      "cell_type": "markdown",
      "metadata": {
        "id": "M_yZ9B8gTFqR"
      },
      "source": [
        "## 1. Unidades de activación"
      ]
    },
    {
      "cell_type": "markdown",
      "metadata": {
        "id": "MuVNxmXSTFqR"
      },
      "source": [
        "En este ejercicio, vamos a evaluar la importancia de utilizar las unidades de activación adecuadas. Como hemos visto en clase, funciones de activación como sigmoid han dejado de utilizarse en favor de otras unidades como ReLU.\n",
        "\n",
        "**Ejercicio 1 *(1.25 puntos)***: Partiendo de una red sencilla como la desarrollada en el Trabajo 1, escribir un breve análisis comparando la utilización de unidades sigmoid y ReLU (por ejemplo, se pueden comentar aspectos como velocidad de convergencia, métricas obtenidas...). Explicar por qué pueden darse estas diferencias. Opcionalmente, comparar con otras activaciones disponibles en Keras.\n",
        "\n",
        "*Pista: Usando redes más grandes se hace más sencillo apreciar las diferencias. Es mejor utilizar al menos 3 o 4 capas densas.*"
      ]
    },
    {
      "cell_type": "markdown",
      "metadata": {
        "id": "Z6QNi13PM40k"
      },
      "source": [
        "En la libreria KERAS encontramos las siguientes unidades de activación[1]:\n",
        "<ul>\n",
        "    <li>relu </li>\n",
        "    <li>sigmoid </li>\n",
        "    <li>softmax </li>\n",
        "    <li>softplus </li>\n",
        "    <li>softsign </li>\n",
        "    <li>tanh </li>\n",
        "    <li>selu </li>\n",
        "    <li>elu </li>\n",
        "    <li>exponential </li>\n",
        "</ul>\n",
        "Vamos a configurar 3 modelos con capas densas ocultas con las siguientes unidades de activación:\n",
        "\n",
        "1. [Sigmoid](#sigmoid)\n",
        "2. [Relu](#relu)\n",
        "3. [Tanh](#tanh)\n",
        "\n"
      ]
    },
    {
      "cell_type": "code",
      "metadata": {
        "id": "hoYUajTuTFqS"
      },
      "source": [
        "## Tu código y comentarios de texto aquí\n",
        "## Puedes incluir tantas celdas como quieras\n",
        "## No olvides utilizar celdas de Markdown para texto\n",
        "X_valid, X_train = x_train[:5000], x_train[5000:]\n",
        "y_valid, y_train = y_train[:5000], y_train[5000:]"
      ],
      "execution_count": null,
      "outputs": []
    },
    {
      "cell_type": "code",
      "metadata": {
        "id": "JnTngUUfoa1V",
        "outputId": "d2ee00f1-f694-43b5-da03-89f5cd01d9f8",
        "colab": {
          "base_uri": "https://localhost:8080/",
          "height": 122
        }
      },
      "source": [
        "print(f\"El set de datos X_train es {X_train.shape}\")\n",
        "print(f\"El set de datos y_train es {y_train.shape}\")\n",
        "print(f\"El set de datos X_valid es {X_valid.shape}\")\n",
        "print(f\"El set de datos y_valid es {y_valid.shape}\")\n",
        "print(f\"el set de datos de y contiene los siguientes valores unicos {set(y_train)}\")\n",
        "print(\" Los cuales corresponden a la categoria de una imagen\")"
      ],
      "execution_count": null,
      "outputs": [
        {
          "output_type": "stream",
          "text": [
            "El set de datos X_train es (55000, 28, 28)\n",
            "El set de datos y_train es (55000,)\n",
            "El set de datos X_valid es (5000, 28, 28)\n",
            "El set de datos y_valid es (5000,)\n",
            "el set de datos de y contiene los siguientes valores unicos {0, 1, 2, 3, 4, 5, 6, 7, 8, 9}\n",
            " Los cuales corresponden a la categoria de una imagen\n"
          ],
          "name": "stdout"
        }
      ]
    },
    {
      "cell_type": "markdown",
      "metadata": {
        "id": "iMZfGo0Hnu1u"
      },
      "source": [
        "### <a name=\"sigmoid\">Capas densas con Sigmoide<a>"
      ]
    },
    {
      "cell_type": "code",
      "metadata": {
        "id": "jJ39yPo7lb7p"
      },
      "source": [
        "model= keras.models.Sequential()\n",
        "# El tamaño de entrada  corresponde al tamaño de la imagen 28x28\n",
        "model.add(keras.layers.Flatten(input_shape=[28,28]))\n",
        "model.add(keras.layers.Dense(128, activation=\"sigmoid\"))\n",
        "model.add(keras.layers.Dense(64, activation=\"sigmoid\"))\n",
        "model.add(keras.layers.Dense(64, activation=\"sigmoid\"))\n",
        "model.add(keras.layers.Dense(32, activation=\"sigmoid\"))\n",
        "model.add(keras.layers.Dense(10, activation=\"softmax\"))"
      ],
      "execution_count": null,
      "outputs": []
    },
    {
      "cell_type": "code",
      "metadata": {
        "id": "G_onXCh4lfuk",
        "outputId": "1981fc94-15c8-45d2-feee-a17c4bbb4486",
        "colab": {
          "base_uri": "https://localhost:8080/",
          "height": 369
        }
      },
      "source": [
        "model.summary()"
      ],
      "execution_count": null,
      "outputs": [
        {
          "output_type": "stream",
          "text": [
            "Model: \"sequential\"\n",
            "_________________________________________________________________\n",
            "Layer (type)                 Output Shape              Param #   \n",
            "=================================================================\n",
            "flatten (Flatten)            (None, 784)               0         \n",
            "_________________________________________________________________\n",
            "dense (Dense)                (None, 128)               100480    \n",
            "_________________________________________________________________\n",
            "dense_1 (Dense)              (None, 64)                8256      \n",
            "_________________________________________________________________\n",
            "dense_2 (Dense)              (None, 64)                4160      \n",
            "_________________________________________________________________\n",
            "dense_3 (Dense)              (None, 32)                2080      \n",
            "_________________________________________________________________\n",
            "dense_4 (Dense)              (None, 10)                330       \n",
            "=================================================================\n",
            "Total params: 115,306\n",
            "Trainable params: 115,306\n",
            "Non-trainable params: 0\n",
            "_________________________________________________________________\n"
          ],
          "name": "stdout"
        }
      ]
    },
    {
      "cell_type": "code",
      "metadata": {
        "id": "0qEUXbx-liWk"
      },
      "source": [
        "model.compile(loss=\"sparse_categorical_crossentropy\",\n",
        "              optimizer= \"sgd\",\n",
        "              metrics =[\"accuracy\"])"
      ],
      "execution_count": null,
      "outputs": []
    },
    {
      "cell_type": "code",
      "metadata": {
        "id": "Jmlt8bmTlm1D",
        "outputId": "b30b7d25-39eb-4179-f94b-53476f6ec332",
        "colab": {
          "base_uri": "https://localhost:8080/",
          "height": 721
        }
      },
      "source": [
        "history1 = model.fit(X_train,y_train,\n",
        "                    batch_size=64,\n",
        "                    epochs=20, \n",
        "                    validation_data=(X_valid, y_valid))"
      ],
      "execution_count": null,
      "outputs": [
        {
          "output_type": "stream",
          "text": [
            "Epoch 1/20\n",
            "860/860 [==============================] - 3s 3ms/step - loss: 2.3115 - accuracy: 0.1031 - val_loss: 2.3012 - val_accuracy: 0.1126\n",
            "Epoch 2/20\n",
            "860/860 [==============================] - 3s 3ms/step - loss: 2.3014 - accuracy: 0.1077 - val_loss: 2.3010 - val_accuracy: 0.1012\n",
            "Epoch 3/20\n",
            "860/860 [==============================] - 3s 3ms/step - loss: 2.3008 - accuracy: 0.1099 - val_loss: 2.3008 - val_accuracy: 0.1642\n",
            "Epoch 4/20\n",
            "860/860 [==============================] - 3s 3ms/step - loss: 2.3001 - accuracy: 0.1159 - val_loss: 2.2996 - val_accuracy: 0.1002\n",
            "Epoch 5/20\n",
            "860/860 [==============================] - 3s 3ms/step - loss: 2.2992 - accuracy: 0.1182 - val_loss: 2.2986 - val_accuracy: 0.1844\n",
            "Epoch 6/20\n",
            "860/860 [==============================] - 3s 3ms/step - loss: 2.2984 - accuracy: 0.1402 - val_loss: 2.2985 - val_accuracy: 0.0914\n",
            "Epoch 7/20\n",
            "860/860 [==============================] - 3s 3ms/step - loss: 2.2972 - accuracy: 0.1387 - val_loss: 2.2963 - val_accuracy: 0.0986\n",
            "Epoch 8/20\n",
            "860/860 [==============================] - 3s 3ms/step - loss: 2.2959 - accuracy: 0.1423 - val_loss: 2.2947 - val_accuracy: 0.1022\n",
            "Epoch 9/20\n",
            "860/860 [==============================] - 3s 3ms/step - loss: 2.2940 - accuracy: 0.1596 - val_loss: 2.2929 - val_accuracy: 0.1874\n",
            "Epoch 10/20\n",
            "860/860 [==============================] - 3s 3ms/step - loss: 2.2918 - accuracy: 0.1839 - val_loss: 2.2892 - val_accuracy: 0.1888\n",
            "Epoch 11/20\n",
            "860/860 [==============================] - 3s 3ms/step - loss: 2.2883 - accuracy: 0.1961 - val_loss: 2.2860 - val_accuracy: 0.1040\n",
            "Epoch 12/20\n",
            "860/860 [==============================] - 3s 3ms/step - loss: 2.2833 - accuracy: 0.2257 - val_loss: 2.2788 - val_accuracy: 0.2742\n",
            "Epoch 13/20\n",
            "860/860 [==============================] - 3s 3ms/step - loss: 2.2753 - accuracy: 0.2511 - val_loss: 2.2679 - val_accuracy: 0.2016\n",
            "Epoch 14/20\n",
            "860/860 [==============================] - 2s 3ms/step - loss: 2.2607 - accuracy: 0.2907 - val_loss: 2.2464 - val_accuracy: 0.3278\n",
            "Epoch 15/20\n",
            "860/860 [==============================] - 2s 3ms/step - loss: 2.2303 - accuracy: 0.2727 - val_loss: 2.2004 - val_accuracy: 0.4274\n",
            "Epoch 16/20\n",
            "860/860 [==============================] - 2s 3ms/step - loss: 2.1597 - accuracy: 0.2500 - val_loss: 2.0931 - val_accuracy: 0.2752\n",
            "Epoch 17/20\n",
            "860/860 [==============================] - 3s 3ms/step - loss: 2.0234 - accuracy: 0.2675 - val_loss: 1.9340 - val_accuracy: 0.2934\n",
            "Epoch 18/20\n",
            "860/860 [==============================] - 3s 3ms/step - loss: 1.8803 - accuracy: 0.2881 - val_loss: 1.8139 - val_accuracy: 0.3584\n",
            "Epoch 19/20\n",
            "860/860 [==============================] - 3s 3ms/step - loss: 1.7759 - accuracy: 0.3419 - val_loss: 1.7192 - val_accuracy: 0.3256\n",
            "Epoch 20/20\n",
            "860/860 [==============================] - 2s 3ms/step - loss: 1.6788 - accuracy: 0.3472 - val_loss: 1.6261 - val_accuracy: 0.3480\n"
          ],
          "name": "stdout"
        }
      ]
    },
    {
      "cell_type": "markdown",
      "metadata": {
        "id": "G_tKN5ljrBtH"
      },
      "source": [
        "### <a name=\"relu\" >Capas Densas con Relu</a>"
      ]
    },
    {
      "cell_type": "code",
      "metadata": {
        "id": "XisgO8alrGLq",
        "outputId": "589c7553-40a5-4ad2-926d-d74c50871149",
        "colab": {
          "base_uri": "https://localhost:8080/",
          "height": 369
        }
      },
      "source": [
        "model2= keras.models.Sequential()\n",
        "# El tamaño de entrada  corresponde al tamaño de la imagen 28x28\n",
        "model2.add(keras.layers.Flatten(input_shape=[28,28]))\n",
        "model2.add(keras.layers.Dense(128, activation=\"relu\"))\n",
        "model2.add(keras.layers.Dense(64, activation=\"relu\"))\n",
        "model2.add(keras.layers.Dense(64, activation=\"relu\"))\n",
        "model2.add(keras.layers.Dense(32, activation=\"relu\"))\n",
        "model2.add(keras.layers.Dense(10, activation=\"softmax\"))\n",
        "model2.summary()"
      ],
      "execution_count": null,
      "outputs": [
        {
          "output_type": "stream",
          "text": [
            "Model: \"sequential_7\"\n",
            "_________________________________________________________________\n",
            "Layer (type)                 Output Shape              Param #   \n",
            "=================================================================\n",
            "flatten_7 (Flatten)          (None, 784)               0         \n",
            "_________________________________________________________________\n",
            "dense_35 (Dense)             (None, 128)               100480    \n",
            "_________________________________________________________________\n",
            "dense_36 (Dense)             (None, 64)                8256      \n",
            "_________________________________________________________________\n",
            "dense_37 (Dense)             (None, 64)                4160      \n",
            "_________________________________________________________________\n",
            "dense_38 (Dense)             (None, 32)                2080      \n",
            "_________________________________________________________________\n",
            "dense_39 (Dense)             (None, 10)                330       \n",
            "=================================================================\n",
            "Total params: 115,306\n",
            "Trainable params: 115,306\n",
            "Non-trainable params: 0\n",
            "_________________________________________________________________\n"
          ],
          "name": "stdout"
        }
      ]
    },
    {
      "cell_type": "code",
      "metadata": {
        "id": "EkMLT-VmrGZz"
      },
      "source": [
        "model2.compile(loss=\"sparse_categorical_crossentropy\",\n",
        "              optimizer= \"sgd\",\n",
        "              metrics =[\"accuracy\"])"
      ],
      "execution_count": null,
      "outputs": []
    },
    {
      "cell_type": "code",
      "metadata": {
        "id": "y3DiCd6arGCM",
        "outputId": "1028265f-263a-4b3a-d010-708cf11b4693",
        "colab": {
          "base_uri": "https://localhost:8080/"
        }
      },
      "source": [
        "history2 = model2.fit(X_train,y_train,\n",
        "                    batch_size=64,\n",
        "                    epochs=20, \n",
        "                    validation_data=(X_valid, y_valid))"
      ],
      "execution_count": null,
      "outputs": [
        {
          "output_type": "stream",
          "text": [
            "Epoch 1/20\n",
            "860/860 [==============================] - 3s 3ms/step - loss: 1.0488 - accuracy: 0.6612 - val_loss: 0.6413 - val_accuracy: 0.7812\n",
            "Epoch 2/20\n",
            "860/860 [==============================] - 3s 3ms/step - loss: 0.5815 - accuracy: 0.7984 - val_loss: 0.5466 - val_accuracy: 0.8116\n",
            "Epoch 3/20\n",
            "860/860 [==============================] - 3s 3ms/step - loss: 0.5087 - accuracy: 0.8218 - val_loss: 0.5213 - val_accuracy: 0.8102\n",
            "Epoch 4/20\n",
            "860/860 [==============================] - 3s 3ms/step - loss: 0.4688 - accuracy: 0.8358 - val_loss: 0.5086 - val_accuracy: 0.8130\n",
            "Epoch 5/20\n",
            "860/860 [==============================] - 3s 3ms/step - loss: 0.4411 - accuracy: 0.8435 - val_loss: 0.4483 - val_accuracy: 0.8442\n",
            "Epoch 6/20\n",
            "860/860 [==============================] - 3s 3ms/step - loss: 0.4209 - accuracy: 0.8510 - val_loss: 0.4414 - val_accuracy: 0.8478\n",
            "Epoch 7/20\n",
            "860/860 [==============================] - 3s 3ms/step - loss: 0.4037 - accuracy: 0.8562 - val_loss: 0.4424 - val_accuracy: 0.8384\n",
            "Epoch 8/20\n",
            "860/860 [==============================] - 3s 3ms/step - loss: 0.3883 - accuracy: 0.8613 - val_loss: 0.4491 - val_accuracy: 0.8360\n",
            "Epoch 9/20\n",
            "860/860 [==============================] - 3s 3ms/step - loss: 0.3756 - accuracy: 0.8647 - val_loss: 0.4061 - val_accuracy: 0.8576\n",
            "Epoch 10/20\n",
            "860/860 [==============================] - 3s 3ms/step - loss: 0.3649 - accuracy: 0.8690 - val_loss: 0.3790 - val_accuracy: 0.8648\n",
            "Epoch 11/20\n",
            "860/860 [==============================] - 3s 3ms/step - loss: 0.3548 - accuracy: 0.8724 - val_loss: 0.3956 - val_accuracy: 0.8550\n",
            "Epoch 12/20\n",
            "860/860 [==============================] - 3s 3ms/step - loss: 0.3456 - accuracy: 0.8762 - val_loss: 0.3644 - val_accuracy: 0.8670\n",
            "Epoch 13/20\n",
            "860/860 [==============================] - 3s 3ms/step - loss: 0.3381 - accuracy: 0.8788 - val_loss: 0.3575 - val_accuracy: 0.8706\n",
            "Epoch 14/20\n",
            "860/860 [==============================] - 3s 3ms/step - loss: 0.3307 - accuracy: 0.8811 - val_loss: 0.3483 - val_accuracy: 0.8738\n",
            "Epoch 15/20\n",
            "860/860 [==============================] - 3s 3ms/step - loss: 0.3243 - accuracy: 0.8824 - val_loss: 0.3945 - val_accuracy: 0.8530\n",
            "Epoch 16/20\n",
            "860/860 [==============================] - 3s 3ms/step - loss: 0.3170 - accuracy: 0.8857 - val_loss: 0.3428 - val_accuracy: 0.8730\n",
            "Epoch 17/20\n",
            "860/860 [==============================] - 3s 3ms/step - loss: 0.3114 - accuracy: 0.8867 - val_loss: 0.3413 - val_accuracy: 0.8762\n",
            "Epoch 18/20\n",
            "860/860 [==============================] - 3s 3ms/step - loss: 0.3058 - accuracy: 0.8886 - val_loss: 0.3384 - val_accuracy: 0.8778\n",
            "Epoch 19/20\n",
            "860/860 [==============================] - 3s 3ms/step - loss: 0.3022 - accuracy: 0.8900 - val_loss: 0.3402 - val_accuracy: 0.8782\n",
            "Epoch 20/20\n",
            "860/860 [==============================] - 3s 3ms/step - loss: 0.2973 - accuracy: 0.8923 - val_loss: 0.3207 - val_accuracy: 0.8806\n"
          ],
          "name": "stdout"
        }
      ]
    },
    {
      "cell_type": "markdown",
      "metadata": {
        "id": "6KMB3Bier_9l"
      },
      "source": [
        "### Comparación: Modelo 1 Función de activación Sigmoide Vs Modelo 2 Función de activación Relu"
      ]
    },
    {
      "cell_type": "code",
      "metadata": {
        "id": "WKeGBKoYsLfi",
        "outputId": "1341fae0-b06e-4f5c-bf2f-2594c27a26d5",
        "colab": {
          "base_uri": "https://localhost:8080/",
          "height": 573
        }
      },
      "source": [
        "plot_compare_losses(history1,history2, name1=\"sigmoide\", name2=\"Relu\", title=\"Perdida Capas densas Sigmoide y relu\")\n",
        "plot_compare_accs(history1,history2,name1= \"sigmoide\",name2=\"relu\",title=\"Precisión Capas densas Sigmoide y relu\")"
      ],
      "execution_count": null,
      "outputs": [
        {
          "output_type": "display_data",
          "data": {
            "image/png": "[encoded data removed]",
            "text/plain": [
              "<Figure size 432x288 with 1 Axes>"
            ]
          },
          "metadata": {
            "tags": [],
            "needs_background": "light"
          }
        },
        {
          "output_type": "display_data",
          "data": {
            "image/png": "[encoded data removed]",
            "text/plain": [
              "<Figure size 432x288 with 1 Axes>"
            ]
          },
          "metadata": {
            "tags": [],
            "needs_background": "light"
          }
        }
      ]
    },
    {
      "cell_type": "markdown",
      "metadata": {
        "id": "XEPmEdP9K0Gf"
      },
      "source": [
        "* Sigmoide presenta una precisión baja con la configuración dada.\n",
        "* La función sigmoide puede hacer que la red neuronal se atasque en el momento del entrenamiento.\n",
        "* Relu converge rapidamente a una precisión superior a 0.8\n"
      ]
    },
    {
      "cell_type": "markdown",
      "metadata": {
        "id": "3kT1xxgPRGcE"
      },
      "source": [
        "### <a name=\"tanh\">Capas Densas Función Tanh<a>"
      ]
    },
    {
      "cell_type": "code",
      "metadata": {
        "id": "5uunWiVlRfl1",
        "outputId": "4cef0a3b-183f-4e36-ef7d-38e5c87d9b96",
        "colab": {
          "base_uri": "https://localhost:8080/",
          "height": 369
        }
      },
      "source": [
        "model3= keras.models.Sequential()\n",
        "# El tamaño de entrada  corresponde al tamaño de la imagen 28x28\n",
        "model3.add(keras.layers.Flatten(input_shape=[28,28]))\n",
        "model3.add(keras.layers.Dense(128, activation=\"tanh\"))\n",
        "model3.add(keras.layers.Dense(64, activation=\"tanh\"))\n",
        "model3.add(keras.layers.Dense(64, activation=\"tanh\"))\n",
        "model3.add(keras.layers.Dense(32, activation=\"tanh\"))\n",
        "model3.add(keras.layers.Dense(10, activation=\"softmax\"))\n",
        "model3.summary()"
      ],
      "execution_count": null,
      "outputs": [
        {
          "output_type": "stream",
          "text": [
            "Model: \"sequential_4\"\n",
            "_________________________________________________________________\n",
            "Layer (type)                 Output Shape              Param #   \n",
            "=================================================================\n",
            "flatten_4 (Flatten)          (None, 784)               0         \n",
            "_________________________________________________________________\n",
            "dense_20 (Dense)             (None, 128)               100480    \n",
            "_________________________________________________________________\n",
            "dense_21 (Dense)             (None, 64)                8256      \n",
            "_________________________________________________________________\n",
            "dense_22 (Dense)             (None, 64)                4160      \n",
            "_________________________________________________________________\n",
            "dense_23 (Dense)             (None, 32)                2080      \n",
            "_________________________________________________________________\n",
            "dense_24 (Dense)             (None, 10)                330       \n",
            "=================================================================\n",
            "Total params: 115,306\n",
            "Trainable params: 115,306\n",
            "Non-trainable params: 0\n",
            "_________________________________________________________________\n"
          ],
          "name": "stdout"
        }
      ]
    },
    {
      "cell_type": "code",
      "metadata": {
        "id": "GeyKjB_BRroX",
        "outputId": "bb65567b-1cde-441c-f270-449cc7bc5f92",
        "colab": {
          "base_uri": "https://localhost:8080/",
          "height": 721
        }
      },
      "source": [
        "model3.compile(loss=\"sparse_categorical_crossentropy\",\n",
        "optimizer= \"sgd\",\n",
        "metrics =[\"accuracy\"])\n",
        "history3 = model3.fit(X_train,y_train,\n",
        "batch_size=64,\n",
        "epochs=20,\n",
        "validation_data=(X_valid, y_valid))"
      ],
      "execution_count": null,
      "outputs": [
        {
          "output_type": "stream",
          "text": [
            "Epoch 1/20\n",
            "860/860 [==============================] - 2s 3ms/step - loss: 0.8954 - accuracy: 0.7306 - val_loss: 0.5882 - val_accuracy: 0.8120\n",
            "Epoch 2/20\n",
            "860/860 [==============================] - 2s 2ms/step - loss: 0.5400 - accuracy: 0.8179 - val_loss: 0.4828 - val_accuracy: 0.8378\n",
            "Epoch 3/20\n",
            "860/860 [==============================] - 2s 3ms/step - loss: 0.4754 - accuracy: 0.8346 - val_loss: 0.4472 - val_accuracy: 0.8454\n",
            "Epoch 4/20\n",
            "860/860 [==============================] - 2s 3ms/step - loss: 0.4421 - accuracy: 0.8440 - val_loss: 0.4251 - val_accuracy: 0.8552\n",
            "Epoch 5/20\n",
            "860/860 [==============================] - 2s 3ms/step - loss: 0.4205 - accuracy: 0.8507 - val_loss: 0.4379 - val_accuracy: 0.8446\n",
            "Epoch 6/20\n",
            "860/860 [==============================] - 2s 3ms/step - loss: 0.4043 - accuracy: 0.8563 - val_loss: 0.4032 - val_accuracy: 0.8554\n",
            "Epoch 7/20\n",
            "860/860 [==============================] - 2s 3ms/step - loss: 0.3919 - accuracy: 0.8609 - val_loss: 0.3991 - val_accuracy: 0.8560\n",
            "Epoch 8/20\n",
            "860/860 [==============================] - 2s 3ms/step - loss: 0.3802 - accuracy: 0.8652 - val_loss: 0.3744 - val_accuracy: 0.8672\n",
            "Epoch 9/20\n",
            "860/860 [==============================] - 2s 3ms/step - loss: 0.3717 - accuracy: 0.8661 - val_loss: 0.3726 - val_accuracy: 0.8682\n",
            "Epoch 10/20\n",
            "860/860 [==============================] - 2s 3ms/step - loss: 0.3638 - accuracy: 0.8700 - val_loss: 0.3649 - val_accuracy: 0.8700\n",
            "Epoch 11/20\n",
            "860/860 [==============================] - 2s 2ms/step - loss: 0.3566 - accuracy: 0.8733 - val_loss: 0.3762 - val_accuracy: 0.8654\n",
            "Epoch 12/20\n",
            "860/860 [==============================] - 2s 3ms/step - loss: 0.3504 - accuracy: 0.8741 - val_loss: 0.3608 - val_accuracy: 0.8700\n",
            "Epoch 13/20\n",
            "860/860 [==============================] - 2s 2ms/step - loss: 0.3432 - accuracy: 0.8771 - val_loss: 0.3511 - val_accuracy: 0.8728\n",
            "Epoch 14/20\n",
            "860/860 [==============================] - 2s 3ms/step - loss: 0.3380 - accuracy: 0.8789 - val_loss: 0.3542 - val_accuracy: 0.8712\n",
            "Epoch 15/20\n",
            "860/860 [==============================] - 2s 3ms/step - loss: 0.3330 - accuracy: 0.8803 - val_loss: 0.3510 - val_accuracy: 0.8738\n",
            "Epoch 16/20\n",
            "860/860 [==============================] - 2s 3ms/step - loss: 0.3284 - accuracy: 0.8827 - val_loss: 0.3536 - val_accuracy: 0.8734\n",
            "Epoch 17/20\n",
            "860/860 [==============================] - 2s 2ms/step - loss: 0.3239 - accuracy: 0.8838 - val_loss: 0.3455 - val_accuracy: 0.8768\n",
            "Epoch 18/20\n",
            "860/860 [==============================] - 2s 2ms/step - loss: 0.3184 - accuracy: 0.8859 - val_loss: 0.3386 - val_accuracy: 0.8776\n",
            "Epoch 19/20\n",
            "860/860 [==============================] - 2s 3ms/step - loss: 0.3158 - accuracy: 0.8864 - val_loss: 0.3327 - val_accuracy: 0.8794\n",
            "Epoch 20/20\n",
            "860/860 [==============================] - 2s 3ms/step - loss: 0.3111 - accuracy: 0.8884 - val_loss: 0.3338 - val_accuracy: 0.8806\n"
          ],
          "name": "stdout"
        }
      ]
    },
    {
      "cell_type": "code",
      "metadata": {
        "id": "9Ucd8gU4Rrdf",
        "outputId": "f105c031-b527-4bb6-9642-f88d1a0b4ac7",
        "colab": {
          "base_uri": "https://localhost:8080/",
          "height": 573
        }
      },
      "source": [
        "plot_compare_accs(history3,history2,name1= \"tanh\",name2=\"relu\",title=\"Precisión Capas densas Tanh  y relu\")\n",
        "plot_compare_losses(history3,history2, name1=\"tanh\", name2=\"Relu\", title=\"Perdida Capas densas Tanh  y relu\")\n"
      ],
      "execution_count": null,
      "outputs": [
        {
          "output_type": "display_data",
          "data": {
            "image/png": "[encoded data removed]",
            "text/plain": [
              "<Figure size 432x288 with 1 Axes>"
            ]
          },
          "metadata": {
            "tags": [],
            "needs_background": "light"
          }
        },
        {
          "output_type": "display_data",
          "data": {
            "image/png": "[encoded data removed]",
            "text/plain": [
              "<Figure size 432x288 with 1 Axes>"
            ]
          },
          "metadata": {
            "tags": [],
            "needs_background": "light"
          }
        }
      ]
    },
    {
      "cell_type": "markdown",
      "metadata": {
        "id": "gIgPiK1SbprL"
      },
      "source": [
        "### Comparación: Función de Activación Tanh Vs Función de Activación Relu"
      ]
    },
    {
      "cell_type": "markdown",
      "metadata": {
        "id": "cuikzadJW95w"
      },
      "source": [
        "* El entrenamiento con la función de activacion tanh presenta para este caso un mejor resultado que la Relu obteniendo una precisión un poco mejor.\n",
        "* El valor de perdida es menor en las primeras epocas del entrenamiento con la función de Activación Tanh.\n",
        "* La convergencia a una precision del 0.8 es mas rapida con la función Tanh\n",
        "* Al final los dos modelos obtuvieron resultados muy parecidos.\n"
      ]
    },
    {
      "cell_type": "markdown",
      "metadata": {
        "id": "pu6RbUFKTFqT"
      },
      "source": [
        "## 2. Inicialización de parámetros"
      ]
    },
    {
      "cell_type": "markdown",
      "metadata": {
        "id": "Abmm05UPTFqU"
      },
      "source": [
        "En este ejercicio, vamos a evaluar la importancia de una correcta inicialización de parámetros en una red neuronal.\n",
        "\n",
        "**Ejercicio 2 *(1.25 puntos)***: Partiendo de una red similar a la del ejercicio anterior (usando ya ReLUs), comentar las diferencias que se aprecian en el entrenamiento al utilizar distintas estrategias de inicialización de parámetros. Para ello, inicializar todas las capas con las siguientes estrategias, disponibles en Keras, y analizar sus diferencias:\n",
        "\n",
        "* Inicialización con ceros.\n",
        "* Inicialización con una variable aleatoria normal.\n",
        "* Inicialización con los valores por defecto de Keras para una capa Dense (estrategia *glorot uniform*)"
      ]
    },
    {
      "cell_type": "code",
      "metadata": {
        "id": "bN_rMqjgcZ05",
        "outputId": "5bc2cf05-33c8-4eb9-879f-ac6200af3faf",
        "colab": {
          "base_uri": "https://localhost:8080/",
          "height": 369
        }
      },
      "source": [
        "model4= keras.models.Sequential()\n",
        "# El tamaño de entrada  corresponde al tamaño de la imagen 28x28\n",
        "model4.add(keras.layers.Flatten(input_shape=[28,28]))\n",
        "model4.add(keras.layers.Dense(128, activation=\"relu\"))\n",
        "model4.add(keras.layers.Dense(64, activation=\"relu\"))\n",
        "model4.add(keras.layers.Dense(64, activation=\"relu\"))\n",
        "model4.add(keras.layers.Dense(32, activation=\"relu\"))\n",
        "model4.add(keras.layers.Dense(10, activation=\"softmax\"))\n",
        "model4.summary()"
      ],
      "execution_count": null,
      "outputs": [
        {
          "output_type": "stream",
          "text": [
            "Model: \"sequential_6\"\n",
            "_________________________________________________________________\n",
            "Layer (type)                 Output Shape              Param #   \n",
            "=================================================================\n",
            "flatten_6 (Flatten)          (None, 784)               0         \n",
            "_________________________________________________________________\n",
            "dense_30 (Dense)             (None, 128)               100480    \n",
            "_________________________________________________________________\n",
            "dense_31 (Dense)             (None, 64)                8256      \n",
            "_________________________________________________________________\n",
            "dense_32 (Dense)             (None, 64)                4160      \n",
            "_________________________________________________________________\n",
            "dense_33 (Dense)             (None, 32)                2080      \n",
            "_________________________________________________________________\n",
            "dense_34 (Dense)             (None, 10)                330       \n",
            "=================================================================\n",
            "Total params: 115,306\n",
            "Trainable params: 115,306\n",
            "Non-trainable params: 0\n",
            "_________________________________________________________________\n"
          ],
          "name": "stdout"
        }
      ]
    },
    {
      "cell_type": "code",
      "metadata": {
        "id": "epMxvOoDcq9l"
      },
      "source": [
        "model3.compile(loss=\"sparse_categorical_crossentropy\",\n",
        "optimizer= \"sgd\",\n",
        "metrics =[\"accuracy\"])\n",
        "\n",
        "history3 = model3.fit(X_train,y_train,\n",
        "batch_size=64,\n",
        "epochs=20,\n",
        "validation_data=(X_valid, y_valid))"
      ],
      "execution_count": null,
      "outputs": []
    },
    {
      "cell_type": "code",
      "metadata": {
        "id": "CfkKO979cq8Q"
      },
      "source": [
        ""
      ],
      "execution_count": null,
      "outputs": []
    },
    {
      "cell_type": "code",
      "metadata": {
        "id": "qcMt7pSkTFqU"
      },
      "source": [
        "## Tu código y comentarios de texto aquí\n",
        "## Puedes incluir tantas celdas como quieras\n",
        "## No olvides utilizar celdas de Markdown para texto"
      ],
      "execution_count": null,
      "outputs": []
    },
    {
      "cell_type": "markdown",
      "metadata": {
        "id": "NqIAyVWrTFqV"
      },
      "source": [
        "## 3. Optimizadores"
      ]
    },
    {
      "cell_type": "markdown",
      "metadata": {
        "id": "lcYj29hYTFqW"
      },
      "source": [
        "**Ejercicio 3 *(1.25 puntos)***: Partiendo de una red similar a la del ejercicio anterior (utilizando la mejor estrategia de inicialización observada), comparar y analizar las diferencias que se observan  al entrenar con varios de los optimizadores vistos en clase, incluyendo SGD como optimizador básico (se puede explorar el espacio de hiperparámetros de cada optimizador, aunque para optimizadores más avanzados del estilo de adam y RMSprop es buena idea dejar los valores por defecto provistos por Keras)."
      ]
    },
    {
      "cell_type": "code",
      "metadata": {
        "id": "0fWDiqXvTFqW"
      },
      "source": [
        "## Tu código y comentarios de texto aquí\n",
        "## Puedes incluir tantas celdas como quieras\n",
        "## No olvides utilizar celdas de Markdown para texto"
      ],
      "execution_count": null,
      "outputs": []
    },
    {
      "cell_type": "markdown",
      "metadata": {
        "id": "BkfTFoJOTFqZ"
      },
      "source": [
        "## 4. Regularización y red final *(1.25 puntos)*"
      ]
    },
    {
      "cell_type": "markdown",
      "metadata": {
        "id": "f6CQhK7ZTFqZ"
      },
      "source": [
        "**Ejercicio 4.1**: Entrenar una red final que sea capaz de obtener una accuracy en el validation set cercana al 90%. Para ello, combinar todo lo aprendido anteriormente y utilizar técnicas de regularización para evitar overfitting. Algunos de los elementos que pueden tenerse en cuenta son los siguientes.\n",
        "\n",
        "* Número de capas y neuronas por capa\n",
        "* Optimizadores y sus parámetros\n",
        "* Batch size\n",
        "* Unidades de activación\n",
        "* Uso de capas dropout, regularización L2, regularización L1...\n",
        "* Early stopping (se puede aplicar como un callback de Keras, o se puede ver un poco \"a ojo\" cuándo el modelo empieza a caer en overfitting y seleccionar el número de epochs necesarias)\n",
        "* Batch normalization\n",
        "\n",
        "Si los modelos entrenados anteriormente ya se acercaban al valor requerido de accuracy, probar distintas estrategias igualmente y comentar los resultados.\n",
        "\n",
        "Explicar brevemente la estrategia seguida y los modelos probados para obtener el modelo final, que debe verse entrenado en este Notebook. No es necesario guardar el entrenamiento de todos los modelos que se han probado, es suficiente con explicar cómo se ha llegado al modelo final."
      ]
    },
    {
      "cell_type": "code",
      "metadata": {
        "id": "AUJ5AtunTFqa"
      },
      "source": [
        "## Tu modelo y comentarios de texto aquí\n",
        "## Puedes incluir tantas celdas como quieras\n",
        "## No olvides utilizar celdas de Markdown para texto"
      ],
      "execution_count": null,
      "outputs": []
    },
    {
      "cell_type": "markdown",
      "metadata": {
        "id": "B5LcQgwUTFqb"
      },
      "source": [
        "### Evaluación del modelo en datos de test"
      ]
    },
    {
      "cell_type": "markdown",
      "metadata": {
        "id": "4ldy0NmtTFqb"
      },
      "source": [
        "Una vez elegido el que creemos que es nuestro mejor modelo a partir de la estimación que hemos visto en los datos de validación, es hora de utilizar los datos de test para ver cómo se comporta nuestro modelo ante nuevos datos. Si hemos hecho bien las cosas, este número debería ser parecido al valor de nuestra estimación vista en los datos de validación.\n",
        "\n",
        "**Pregunta 4.2**. Utilizando nuestro mejor modelo, obtener la accuracy resultante en el dataset de test. Comentar este resultado."
      ]
    },
    {
      "cell_type": "code",
      "metadata": {
        "id": "1AchhaHqTFqc"
      },
      "source": [
        "## Tu código y comentarios de texto aquí"
      ],
      "execution_count": null,
      "outputs": []
    },
    {
      "cell_type": "markdown",
      "metadata": {
        "id": "fY11el2pbHor"
      },
      "source": [
        "## Referencias\n",
        "\n",
        "[1] https://keras.io/api/layers/activations/"
      ]
    },
    {
      "cell_type": "code",
      "metadata": {
        "id": "w2-Gt559bLcR"
      },
      "source": [
        ""
      ],
      "execution_count": null,
      "outputs": []
    }
  ]
}